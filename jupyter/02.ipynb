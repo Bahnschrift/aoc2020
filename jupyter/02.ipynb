{
 "cells": [
  {
   "cell_type": "markdown",
   "metadata": {},
   "source": [
    "# Advent of code 2020: Day 2"
   ]
  },
  {
   "cell_type": "markdown",
   "metadata": {},
   "source": [
    "## Import"
   ]
  },
  {
   "cell_type": "code",
   "execution_count": 1,
   "metadata": {},
   "outputs": [],
   "source": [
    "import math as M\n",
    "import collections as C\n",
    "import bahnslib as B\n",
    "from itertools import combinations\n",
    "import requests\n",
    "\n",
    "day = 2\n",
    "\n",
    "if open(f\"../inputs/{str(day).zfill(2)}.txt\", \"r\").read() == \"\":\n",
    "    url = f\"https://adventofcode.com/2020/day/{day}/input\"\n",
    "    id = open(\"../downloader/session_id.txt\", \"r\").readline().strip()\n",
    "    cookies = {\n",
    "        \"session\": id\n",
    "    }\n",
    "    r = requests.post(url, cookies=cookies, allow_redirects=True)\n",
    "    open(f\"../inputs/{str(day).zfill(2)}.txt\", \"w\").write(r.text)\n",
    "\n",
    "file = open(f\"../inputs/{str(day).zfill(2)}.txt\", \"r\")\n",
    "\n",
    "data = [*map(str.rstrip, file.readlines())]\n",
    "\n",
    "file.close()"
   ]
  },
  {
   "cell_type": "markdown",
   "metadata": {},
   "source": [
    "## Part 1"
   ]
  },
  {
   "cell_type": "code",
   "execution_count": 2,
   "metadata": {},
   "outputs": [
    {
     "name": "stdout",
     "output_type": "stream",
     "text": [
      "414\n"
     ]
    }
   ],
   "source": [
    "g = 0\n",
    "for x in data:\n",
    "    mi, ma = map(int, x.split()[0].split('-'))\n",
    "    char = x.split()[1][0]\n",
    "    s = x.split()[2]\n",
    "    if mi <= s.count(char) <= ma:\n",
    "        g += 1\n",
    "print(g)"
   ]
  },
  {
   "cell_type": "markdown",
   "metadata": {},
   "source": [
    "## Part 2"
   ]
  },
  {
   "cell_type": "code",
   "execution_count": 3,
   "metadata": {},
   "outputs": [
    {
     "name": "stdout",
     "output_type": "stream",
     "text": [
      "413\n"
     ]
    }
   ],
   "source": [
    "g = 0\n",
    "for x in data:\n",
    "    mi, ma = map(int, x.split()[0].split('-'))\n",
    "    char = x.split()[1][0]\n",
    "    s = x.split()[2]\n",
    "    if (s[mi - 1] == char and s[ma - 1] != char) or (s[mi - 1] != char and s[ma - 1] == char):\n",
    "        g += 1\n",
    "print(g)"
   ]
  }
 ],
 "metadata": {
  "kernelspec": {
   "display_name": "Python 3",
   "name": "python3"
  },
  "language_info": {
   "codemirror_mode": {
    "name": "ipython",
    "version": 3
   },
   "file_extension": ".py",
   "mimetype": "text/x-python",
   "name": "python",
   "nbconvert_exporter": "python",
   "pygments_lexer": "ipython3",
   "version": "3.7.9-final"
  },
  "orig_nbformat": 2
 },
 "nbformat": 4,
 "nbformat_minor": 2
}