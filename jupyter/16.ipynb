{
 "cells": [
  {
   "cell_type": "markdown",
   "metadata": {},
   "source": [
    "# Advent of code 2020: Day 16\r\n",
    "\r\n",
    "Import Data from web:"
   ]
  },
  {
   "cell_type": "code",
   "execution_count": 2,
   "metadata": {},
   "outputs": [],
   "source": [
    "import math as M\r\n",
    "import collections as C\r\n",
    "import bahnslib as B\r\n",
    "from itertools import combinations, permutations\r\n",
    "import requests\r\n",
    "\r\n",
    "day = 16\r\n",
    "\r\n",
    "if open(f\"../inputs/{str(day).zfill(2)}.txt\", \"r\").read() == \"\":\r\n",
    "    url = f\"https://adventofcode.com/2020/day/{day}/input\"\r\n",
    "    id = open(\"../downloader/session_id.txt\", \"r\").readline().strip()\r\n",
    "    cookies = {\r\n",
    "        \"session\": id\r\n",
    "    }\r\n",
    "    r = requests.post(url, cookies=cookies, allow_redirects=True)\r\n",
    "    open(f\"../inputs/{str(day).zfill(2)}.txt\", \"w\").write(r.text)\r\n",
    "\r\n",
    "file = open(f\"../inputs/{str(day).zfill(2)}.txt\", \"r\")\r\n",
    "data = [*map(str.rstrip, file.readlines())]\r\n",
    "file.close()"
   ]
  },
  {
   "cell_type": "markdown",
   "metadata": {},
   "source": [
    "Paste test data here"
   ]
  },
  {
   "cell_type": "code",
   "execution_count": 3,
   "metadata": {},
   "outputs": [],
   "source": [
    "data = B.split(data, \"\")"
   ]
  },
  {
   "cell_type": "markdown",
   "metadata": {},
   "source": [
    "## Part 1"
   ]
  },
  {
   "cell_type": "code",
   "execution_count": 4,
   "metadata": {},
   "outputs": [],
   "source": [
    "re = []\r\n",
    "all_val = set()\r\n",
    "\r\n",
    "for field in data[0]:\r\n",
    "    vals = B.ints(field)\r\n",
    "    re += [[set.union(set(range(vals[0], vals[1] + 1)), set(range(vals[2], vals[3] + 1))), field.split(\":\")[0]]]\r\n",
    "    all_val = all_val.union(range(vals[0], vals[1] + 1), range(vals[2], vals[3] + 1))"
   ]
  },
  {
   "cell_type": "code",
   "execution_count": 5,
   "metadata": {},
   "outputs": [
    {
     "name": "stdout",
     "output_type": "stream",
     "text": [
      "21071\n"
     ]
    }
   ],
   "source": [
    "s = 0\r\n",
    "for ticket in data[2][1:]:\r\n",
    "    g = True\r\n",
    "    # print(ticket)\r\n",
    "    for x, val in enumerate(ticket.split(\",\")):\r\n",
    "        if not(int(val) in all_val):\r\n",
    "            s += int(val)\r\n",
    "            g = False\r\n",
    "    # if g:\r\n",
    "    #     print(\"valid\")\r\n",
    "    # else:\r\n",
    "    #     print(\"invalid\")\r\n",
    "    # print(ticket)\r\n",
    "print(s)"
   ]
  },
  {
   "cell_type": "markdown",
   "metadata": {},
   "source": [
    "## Part 2"
   ]
  },
  {
   "cell_type": "code",
   "execution_count": 6,
   "metadata": {},
   "outputs": [
    {
     "name": "stdout",
     "output_type": "stream",
     "text": [
      "departure location [0, 2, 3, 6, 7, 9, 10, 11, 12, 16, 17, 19]\n",
      "departure station [0, 2, 3, 6, 7, 8, 9, 10, 11, 12, 16, 17, 19]\n",
      "departure platform [0, 2, 3, 5, 6, 7, 8, 9, 10, 11, 12, 14, 16, 17, 18, 19]\n",
      "departure track [0, 2, 3, 5, 6, 7, 8, 9, 10, 11, 12, 14, 16, 17, 19]\n",
      "departure date [0, 2, 3, 6, 7, 8, 9, 10, 11, 12, 14, 16, 17, 19]\n",
      "departure time [0, 2, 3, 6, 7, 9, 11, 12, 16, 17, 19]\n"
     ]
    }
   ],
   "source": [
    "good_tics = []\r\n",
    "dic = {}\r\n",
    "\r\n",
    "s = 0\r\n",
    "for ticket in data[2][1:]:\r\n",
    "    g = True\r\n",
    "    for x, val in enumerate(ticket.split(\",\")):\r\n",
    "        if not(int(val) in all_val):\r\n",
    "            g = False\r\n",
    "            break\r\n",
    "    if g:\r\n",
    "        good_tics += [B.ints(ticket)]\r\n",
    "\r\n",
    "for pos, field in enumerate(re):\r\n",
    "    # print(re)\r\n",
    "    # print(field)\r\n",
    "    # print(field)\r\n",
    "    for x in range(len(re)):\r\n",
    "        g = True\r\n",
    "        for k in good_tics:\r\n",
    "            if k[x] not in field[0]:\r\n",
    "                g = False\r\n",
    "                break\r\n",
    "        if g and field[1].startswith(\"departure\"):\r\n",
    "            if field[1] in dic:\r\n",
    "                dic[field[1]] += [x]\r\n",
    "            else:\r\n",
    "                dic[field[1]] = [x]\r\n",
    "for r in dic:\r\n",
    "    print(r, dic[r])"
   ]
  },
  {
   "cell_type": "markdown",
   "metadata": {},
   "source": [
    "departure location [0, 2, 3, 6, 7, 9, 10, 11, 12, 16, 17, 19]\r\n",
    "departure station [0, 2, 3, 6, 7, 8, 9, 10, 11, 12, 16, 17, 19]\r\n",
    "departure platform [0, 2, 3, 5, 6, 7, 8, 9, 10, 11, 12, 14, 16, 17, ***18***, 19]\r\n",
    "departure track [0, 2, 3, 5, 6, 7, 8, 9, 10, 11, 12, 14, 16, 17, 19]\r\n",
    "departure date [0, 2, 3, 6, 7, 8, 9, 10, 11, 12, 14, 16, 17, 19]\r\n",
    "departure time [0, 2, 3, 6, 7, 9, 11, 12, 16, 17, 19]\r\n",
    "\r\n",
    "departure location [0, 2, 3, 6, 7, 9, 10, 11, 12, 16, 17, 19]\r\n",
    "departure station [0, 2, 3, 6, 7, 8, 9, 10, 11, 12, 16, 17, 19]\r\n",
    "departure track [0, 2, 3, ***5***, 6, 7, 8, 9, 10, 11, 12, 14, 16, 17, 19]\r\n",
    "departure date [0, 2, 3, 6, 7, 8, 9, 10, 11, 12, 14, 16, 17, 19]\r\n",
    "departure time [0, 2, 3, 6, 7, 9, 11, 12, 16, 17, 19]\r\n",
    "\r\n",
    "departure location [0, 2, 3, 6, 7, 9, 10, 11, 12, 16, 17, 19]\r\n",
    "departure station [0, 2, 3, 6, 7, 8, 9, 10, 11, 12, 16, 17, 19]\r\n",
    "departure date [0, 2, 3, 6, 7, 8, 9, 10, 11, 12, ***14***, 16, 17, 19]\r\n",
    "departure time [0, 2, 3, 6, 7, 9, 11, 12, 16, 17, 19]\r\n",
    "\r\n",
    "departure location [0, 2, 3, 6, 7, 9, 10, 11, 12, 16, 17, 19]\r\n",
    "departure station [0, 2, 3, 6, 7, ***8***, 9, 10, 11, 12, 16, 17, 19]\r\n",
    "departure time [0, 2, 3, 6, 7, 9, 11, 12, 16, 17, 19]\r\n",
    "\r\n",
    "departure location [0, 2, 3, 6, 7, 9, ***10***, 11, 12, 16, 17, 19]\r\n",
    "departure time [0, 2, 3, 6, 7, 9, 11, 12, 16, 17, 19]\r\n",
    "\r\n",
    "departure time [0, 2, 3, 6, 7, 9, 11, 12, 16, 17, 19]\r\n",
    "\r\n",
    "departure location: 10\r\n",
    "departure station: 8\r\n",
    "departure platform: 18\r\n",
    "departure track: 5\r\n",
    "departure date: 14\r\n",
    "departure time [0, 2, 3, 6, 7, 9, 11, 12, 16, 17, 19]\r\n",
    "\r\n",
    "Trial and error time"
   ]
  },
  {
   "cell_type": "code",
   "execution_count": 8,
   "metadata": {},
   "outputs": [
    {
     "name": "stdout",
     "output_type": "stream",
     "text": [
      "3429967441937\n"
     ]
    }
   ],
   "source": [
    "\r\n",
    "inds = [18, 5, 14, 8, 10, 2]\r\n",
    "my_tic = B.ints(data[1][1])\r\n",
    "t = 1\r\n",
    "for x in inds:\r\n",
    "    t *= my_tic[x]\r\n",
    "print(t)\r\n"
   ]
  },
  {
   "cell_type": "markdown",
   "metadata": {},
   "source": [
    "test\r\n",
    "te"
   ]
  }
 ],
 "metadata": {
  "kernelspec": {
   "display_name": "Python 3",
   "language": "python",
   "name": "python3"
  },
  "language_info": {
   "codemirror_mode": {
    "name": "ipython",
    "version": 3
   },
   "file_extension": ".py",
   "mimetype": "text/x-python",
   "name": "python",
   "nbconvert_exporter": "python",
   "pygments_lexer": "ipython3",
   "version": "3.7.9"
  },
  "orig_nbformat": 2
 },
 "nbformat": 4,
 "nbformat_minor": 2
}