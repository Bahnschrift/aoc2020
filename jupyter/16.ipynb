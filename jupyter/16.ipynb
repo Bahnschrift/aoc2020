{
 "cells": [
  {
   "cell_type": "markdown",
   "metadata": {},
   "source": [
    "# Advent of code 2020: Day 16\r\n",
    "\r\n",
    "Import Data from web:"
   ]
  },
  {
   "cell_type": "code",
   "execution_count": 1,
   "metadata": {},
   "outputs": [],
   "source": [
    "import math as M\r\n",
    "import collections as C\r\n",
    "import bahnslib as B\r\n",
    "from itertools import combinations, permutations\r\n",
    "import requests\r\n",
    "\r\n",
    "day = 16\r\n",
    "\r\n",
    "if open(f\"../inputs/{str(day).zfill(2)}.txt\", \"r\").read() == \"\":\r\n",
    "    url = f\"https://adventofcode.com/2020/day/{day}/input\"\r\n",
    "    id = open(\"../downloader/session_id.txt\", \"r\").readline().strip()\r\n",
    "    cookies = {\r\n",
    "        \"session\": id\r\n",
    "    }\r\n",
    "    r = requests.post(url, cookies=cookies, allow_redirects=True)\r\n",
    "    open(f\"../inputs/{str(day).zfill(2)}.txt\", \"w\").write(r.text)\r\n",
    "\r\n",
    "file = open(f\"../inputs/{str(day).zfill(2)}.txt\", \"r\")\r\n",
    "data = B.split(map(str.rstrip, file.readlines()), \"\")\r\n",
    "file.close()"
   ]
  },
  {
   "cell_type": "code",
   "execution_count": 2,
   "metadata": {},
   "outputs": [],
   "source": [
    "re = []\r\n",
    "all_val = set()\r\n",
    "\r\n",
    "for field in data[0]:\r\n",
    "    vals = B.ints(field)\r\n",
    "    re += [[set.union(set(range(vals[0], vals[1] + 1)), set(range(vals[2], vals[3] + 1))), field.split(\":\")[0]]]\r\n",
    "    all_val = all_val.union(range(vals[0], vals[1] + 1), range(vals[2], vals[3] + 1))"
   ]
  },
  {
   "cell_type": "markdown",
   "metadata": {},
   "source": [
    "## Part 1"
   ]
  },
  {
   "cell_type": "code",
   "execution_count": 3,
   "metadata": {},
   "outputs": [
    {
     "name": "stdout",
     "output_type": "stream",
     "text": [
      "21071\n"
     ]
    }
   ],
   "source": [
    "s = 0\r\n",
    "for ticket in data[2][1:]:\r\n",
    "    for x, val in enumerate(ticket.split(\",\")):\r\n",
    "        if not(int(val) in all_val):\r\n",
    "            s += int(val)\r\n",
    "            break\r\n",
    "print(s)"
   ]
  },
  {
   "cell_type": "markdown",
   "metadata": {},
   "source": [
    "## Part 2\r\n",
    "_This is a terrible way don't code like this better way below_"
   ]
  },
  {
   "cell_type": "code",
   "execution_count": 4,
   "metadata": {},
   "outputs": [
    {
     "name": "stdout",
     "output_type": "stream",
     "text": [
      "departure location [0, 2, 3, 6, 7, 9, 10, 11, 12, 16, 17, 19]\n",
      "departure station [0, 2, 3, 6, 7, 8, 9, 10, 11, 12, 16, 17, 19]\n",
      "departure platform [0, 2, 3, 5, 6, 7, 8, 9, 10, 11, 12, 14, 16, 17, 18, 19]\n",
      "departure track [0, 2, 3, 5, 6, 7, 8, 9, 10, 11, 12, 14, 16, 17, 19]\n",
      "departure date [0, 2, 3, 6, 7, 8, 9, 10, 11, 12, 14, 16, 17, 19]\n",
      "departure time [0, 2, 3, 6, 7, 9, 11, 12, 16, 17, 19]\n"
     ]
    }
   ],
   "source": [
    "good_tics = []\r\n",
    "dic = {}\r\n",
    "\r\n",
    "s = 0\r\n",
    "for ticket in data[2][1:]:\r\n",
    "    g = True\r\n",
    "    for x, val in enumerate(ticket.split(\",\")):\r\n",
    "        if not(int(val) in all_val):\r\n",
    "            g = False\r\n",
    "            break\r\n",
    "    if g:\r\n",
    "        good_tics += [B.ints(ticket)]\r\n",
    "\r\n",
    "for pos, field in enumerate(re):\r\n",
    "    for x in range(len(re)):\r\n",
    "        g = True\r\n",
    "        for k in good_tics:\r\n",
    "            if k[x] not in field[0]:\r\n",
    "                g = False\r\n",
    "                break\r\n",
    "        if g and field[1].startswith(\"departure\"):\r\n",
    "            if field[1] in dic:\r\n",
    "                dic[field[1]] += [x]\r\n",
    "            else:\r\n",
    "                dic[field[1]] = [x]\r\n",
    "for r in dic:\r\n",
    "    print(r, dic[r])"
   ]
  },
  {
   "cell_type": "markdown",
   "metadata": {},
   "source": [
    "departure location [0, 2, 3, 6, 7, 9, 10, 11, 12, 16, 17, 19]  \r\n",
    "departure station [0, 2, 3, 6, 7, 8, 9, 10, 11, 12, 16, 17, 19]  \r\n",
    "departure platform [0, 2, 3, 5, 6, 7, 8, 9, 10, 11, 12, 14, 16, 17, ***18***, 19]  \r\n",
    "departure track [0, 2, 3, 5, 6, 7, 8, 9, 10, 11, 12, 14, 16, 17, 19]  \r\n",
    "departure date [0, 2, 3, 6, 7, 8, 9, 10, 11, 12, 14, 16, 17, 19]  \r\n",
    "departure time [0, 2, 3, 6, 7, 9, 11, 12, 16, 17, 19]  \r\n",
    "\r\n",
    "departure location [0, 2, 3, 6, 7, 9, 10, 11, 12, 16, 17, 19]  \r\n",
    "departure station [0, 2, 3, 6, 7, 8, 9, 10, 11, 12, 16, 17, 19]  \r\n",
    "departure track [0, 2, 3, ***5***, 6, 7, 8, 9, 10, 11, 12, 14, 16, 17, 19]  \r\n",
    "departure date [0, 2, 3, 6, 7, 8, 9, 10, 11, 12, 14, 16, 17, 19]  \r\n",
    "departure time [0, 2, 3, 6, 7, 9, 11, 12, 16, 17, 19]  \r\n",
    "\r\n",
    "departure location [0, 2, 3, 6, 7, 9, 10, 11, 12, 16, 17, 19]  \r\n",
    "departure station [0, 2, 3, 6, 7, 8, 9, 10, 11, 12, 16, 17, 19]  \r\n",
    "departure date [0, 2, 3, 6, 7, 8, 9, 10, 11, 12, ***14***, 16, 17, 19]  \r\n",
    "departure time [0, 2, 3, 6, 7, 9, 11, 12, 16, 17, 19]  \r\n",
    "\r\n",
    "departure location [0, 2, 3, 6, 7, 9, 10, 11, 12, 16, 17, 19]  \r\n",
    "departure station [0, 2, 3, 6, 7, ***8***, 9, 10, 11, 12, 16, 17, 19]  \r\n",
    "departure time [0, 2, 3, 6, 7, 9, 11, 12, 16, 17, 19]  \r\n",
    "\r\n",
    "departure location [0, 2, 3, 6, 7, 9, ***10***, 11, 12, 16, 17, 19]  \r\n",
    "departure time [0, 2, 3, 6, 7, 9, 11, 12, 16, 17, 19]  \r\n",
    "\r\n",
    "departure time [0, 2, 3, 6, 7, 9, 11, 12, 16, 17, 19]  \r\n",
    "\r\n",
    "departure location: 10  \r\n",
    "departure station: 8  \r\n",
    "departure platform: 18  \r\n",
    "departure track: 5  \r\n",
    "departure date: 14  \r\n",
    "departure time [0, 2, 3, 6, 7, 9, 11, 12, 16, 17, 19]  \r\n",
    "\r\n",
    "Trial and error time"
   ]
  },
  {
   "cell_type": "code",
   "execution_count": 5,
   "metadata": {},
   "outputs": [
    {
     "name": "stdout",
     "output_type": "stream",
     "text": [
      "3429967441937\n"
     ]
    }
   ],
   "source": [
    "\r\n",
    "inds = [18, 5, 14, 8, 10, 2]\r\n",
    "my_tic = B.ints(data[1][1])\r\n",
    "t = 1\r\n",
    "for x in inds:\r\n",
    "    t *= my_tic[x]\r\n",
    "print(t)\r\n"
   ]
  },
  {
   "cell_type": "markdown",
   "metadata": {},
   "source": [
    "Got lucky, 2 was the correct choice"
   ]
  },
  {
   "cell_type": "markdown",
   "metadata": {},
   "source": [
    "# Part 2\r\n",
    "_but actually a good way_"
   ]
  },
  {
   "cell_type": "markdown",
   "metadata": {},
   "source": [
    "### Step 1:\r\n",
    "Get the good tickets"
   ]
  },
  {
   "cell_type": "code",
   "execution_count": 6,
   "metadata": {},
   "outputs": [],
   "source": [
    "good_tics = []\r\n",
    "for ticket in data[2][1:]:\r\n",
    "    g = True\r\n",
    "    for x, val in enumerate(ticket.split(\",\")):\r\n",
    "        if not(int(val) in all_val):\r\n",
    "            g = False\r\n",
    "            break\r\n",
    "    if g:\r\n",
    "        good_tics += [B.ints(ticket)]\r\n",
    "\r\n"
   ]
  },
  {
   "cell_type": "markdown",
   "metadata": {},
   "source": [
    "### Step 2:\r\n",
    "Create a dictionary linking each field to the possible places it could go"
   ]
  },
  {
   "cell_type": "code",
   "execution_count": 7,
   "metadata": {},
   "outputs": [],
   "source": [
    "\r\n",
    "possibilities = {}\r\n",
    "for pos, field in enumerate(re):\r\n",
    "    for x in range(len(re)):\r\n",
    "        g = True\r\n",
    "        for k in good_tics:\r\n",
    "            if k[x] not in field[0]:\r\n",
    "                g = False\r\n",
    "                break\r\n",
    "        if g:\r\n",
    "            if field[1] in possibilities:\r\n",
    "                possibilities[field[1]].add(x)\r\n",
    "            else:\r\n",
    "                possibilities[field[1]] = {x}"
   ]
  },
  {
   "cell_type": "markdown",
   "metadata": {},
   "source": [
    "### Step 3:\r\n",
    "Create a new dictionary linking each field to it's position on the ticket\r\n",
    "\r\n",
    "This is done by:\r\n",
    "1. Find the field with the most possible positions\r\n",
    "2. Get the position that is exclusive to that set, store it to dict\r\n",
    "3. Remove the field from the previous dict\r\n",
    "4. Repeat"
   ]
  },
  {
   "cell_type": "code",
   "execution_count": 8,
   "metadata": {},
   "outputs": [],
   "source": [
    "real = {}\r\n",
    "while possibilities:\r\n",
    "    field = max(possibilities, key=lambda x: len(possibilities[x]))\r\n",
    "    val = possibilities[field]\r\n",
    "    del possibilities[field]\r\n",
    "    if possibilities:\r\n",
    "        real[field], = val - possibilities[max(possibilities, key=lambda x: len(possibilities[x]))]\r\n",
    "    else:\r\n",
    "        real[field], = val"
   ]
  },
  {
   "cell_type": "markdown",
   "metadata": {},
   "source": [
    "## Step 4:\r\n",
    "Multiply"
   ]
  },
  {
   "cell_type": "code",
   "execution_count": 9,
   "metadata": {},
   "outputs": [
    {
     "name": "stdout",
     "output_type": "stream",
     "text": [
      "3429967441937\n"
     ]
    }
   ],
   "source": [
    "my_ticket = B.ints(data[1][1])\r\n",
    "s = 1\r\n",
    "for field in real:\r\n",
    "    if field.startswith(\"departure\"):\r\n",
    "        s *= my_ticket[real[field]]\r\n",
    "print(s)"
   ]
  }
 ],
 "metadata": {
  "kernelspec": {
   "display_name": "Python 3",
   "language": "python",
   "name": "python3"
  },
  "language_info": {
   "codemirror_mode": {
    "name": "ipython",
    "version": 3
   },
   "file_extension": ".py",
   "mimetype": "text/x-python",
   "name": "python",
   "nbconvert_exporter": "python",
   "pygments_lexer": "ipython3",
   "version": "3.7.9"
  },
  "orig_nbformat": 2
 },
 "nbformat": 4,
 "nbformat_minor": 2
}