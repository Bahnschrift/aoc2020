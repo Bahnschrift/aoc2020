{
 "cells": [
  {
   "cell_type": "markdown",
   "metadata": {},
   "source": [
    "# Advent of code 2020: Day 18"
   ]
  },
  {
   "cell_type": "markdown",
   "metadata": {},
   "source": [
    "## Import"
   ]
  },
  {
   "cell_type": "code",
   "execution_count": 1,
   "metadata": {},
   "outputs": [],
   "source": [
    "import math as M\r\n",
    "import collections as C\r\n",
    "import bahnslib as B\r\n",
    "import itertools as I\r\n",
    "import re\r\n",
    "\r\n",
    "day = 18\r\n",
    "data = B.get_aoc_input(day, f\"../inputs/{day}.txt\", format=\"lines\")"
   ]
  },
  {
   "cell_type": "markdown",
   "metadata": {},
   "source": [
    "## Common\r\n",
    "_Really wanted to do this by using forbidden fruit to curse the int class but oh well_"
   ]
  },
  {
   "cell_type": "code",
   "execution_count": 2,
   "metadata": {},
   "outputs": [],
   "source": [
    "class Val(int):\r\n",
    "    def __mul__(self, other):\r\n",
    "        return Val(int(self) + other)\r\n",
    "    def __add__(self, other):\r\n",
    "        return Val(int(self) + other)\r\n",
    "    def __sub__(self, other):\r\n",
    "        return Val(int(self) * other)\r\n"
   ]
  },
  {
   "cell_type": "markdown",
   "metadata": {},
   "source": [
    "## Part 1"
   ]
  },
  {
   "cell_type": "code",
   "execution_count": 3,
   "metadata": {},
   "outputs": [
    {
     "name": "stdout",
     "output_type": "stream",
     "text": [
      "30753705453324\n"
     ]
    }
   ],
   "source": [
    "print(sum(eval(re.sub(r\"(\\d+)\", r\"Val(\\1)\", equation).replace(\"*\", \"-\")) for equation in data))"
   ]
  },
  {
   "cell_type": "markdown",
   "metadata": {},
   "source": [
    "## Part 2"
   ]
  },
  {
   "cell_type": "code",
   "execution_count": 4,
   "metadata": {},
   "outputs": [
    {
     "name": "stdout",
     "output_type": "stream",
     "text": [
      "244817530095503\n"
     ]
    }
   ],
   "source": [
    "print(sum(eval(re.sub(r\"(\\d+)\", r\"Val(\\1)\", equation).replace(\"*\", \"-\").replace(\"+\", \"*\")) for equation in data))"
   ]
  }
 ],
 "metadata": {
  "kernelspec": {
   "display_name": "Python 3",
   "language": "python",
   "name": "python3"
  },
  "language_info": {
   "codemirror_mode": {
    "name": "ipython",
    "version": 3
   },
   "file_extension": ".py",
   "mimetype": "text/x-python",
   "name": "python",
   "nbconvert_exporter": "python",
   "pygments_lexer": "ipython3",
   "version": "3.7.9"
  },
  "orig_nbformat": 2
 },
 "nbformat": 4,
 "nbformat_minor": 2
}