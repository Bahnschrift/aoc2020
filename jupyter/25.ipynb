{
 "cells": [
  {
   "cell_type": "markdown",
   "metadata": {},
   "source": [
    "# Advent of code 2020: Day 25"
   ]
  },
  {
   "cell_type": "markdown",
   "metadata": {},
   "source": [
    "## Import"
   ]
  },
  {
   "cell_type": "code",
   "execution_count": 1,
   "metadata": {},
   "outputs": [],
   "source": [
    "import math as M\r\n",
    "import collections as C\r\n",
    "import bahnslib as B\r\n",
    "import itertools as I\r\n",
    "\r\n",
    "\r\n",
    "day = 25\r\n",
    "data = B.get_aoc_input(day, f\"../inputs/{day}.txt\", format=\"lines\")"
   ]
  },
  {
   "cell_type": "markdown",
   "metadata": {},
   "source": [
    "## Part 1"
   ]
  },
  {
   "cell_type": "code",
   "execution_count": 2,
   "metadata": {},
   "outputs": [],
   "source": [
    "\r\n",
    "def loop(subject, loop_size):\r\n",
    "    val = 1\r\n",
    "    for _ in range(loop_size):\r\n",
    "        val *= subject\r\n",
    "        val %= 20201227\r\n",
    "    return val"
   ]
  },
  {
   "cell_type": "code",
   "execution_count": 3,
   "metadata": {},
   "outputs": [
    {
     "name": "stdout",
     "output_type": "stream",
     "text": [
      "3286137 3286137\n"
     ]
    }
   ],
   "source": [
    "card_key, door_key = [*map(int, data)]\r\n",
    "\r\n",
    "val = 1\r\n",
    "card_size = 0\r\n",
    "while val != card_key:\r\n",
    "    val *= 7\r\n",
    "    val %= 20201227\r\n",
    "    card_size += 1\r\n",
    "\r\n",
    "val = 1\r\n",
    "door_size = 0\r\n",
    "while val != door_key:\r\n",
    "    val *= 7\r\n",
    "    val %= 20201227\r\n",
    "    door_size += 1\r\n",
    "    \r\n",
    "\r\n",
    "print(loop(card_key, door_size), loop(door_key, card_size))"
   ]
  },
  {
   "cell_type": "markdown",
   "metadata": {},
   "source": [
    "## Part 2"
   ]
  },
  {
   "cell_type": "markdown",
   "metadata": {},
   "source": [
    "Thank you [Eric](https://github.com/topaz) for [Advent of Code 2020](https://adventofcode.com/2020)!"
   ]
  }
 ],
 "metadata": {
  "kernelspec": {
   "display_name": "Python 3",
   "language": "python",
   "name": "python3"
  },
  "language_info": {
   "codemirror_mode": {
    "name": "ipython",
    "version": 3
   },
   "file_extension": ".py",
   "mimetype": "text/x-python",
   "name": "python",
   "nbconvert_exporter": "python",
   "pygments_lexer": "ipython3",
   "version": "3.7.9"
  },
  "orig_nbformat": 2
 },
 "nbformat": 4,
 "nbformat_minor": 2
}