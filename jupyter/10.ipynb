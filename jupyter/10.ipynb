{
 "cells": [
  {
   "cell_type": "markdown",
   "metadata": {},
   "source": [
    "# Advent of code 2020: Day 10"
   ]
  },
  {
   "cell_type": "markdown",
   "metadata": {},
   "source": [
    "## Import"
   ]
  },
  {
   "cell_type": "code",
   "execution_count": 1,
   "metadata": {},
   "outputs": [],
   "source": [
    "import math as M\r\n",
    "import collections as C\r\n",
    "import bahnslib as B\r\n",
    "import itertools as I\r\n",
    "\r\n",
    "\r\n",
    "day = 10\r\n",
    "data = sorted(map(int, B.get_aoc_input(day, f\"../inputs/{day}.txt\", format=\"lines\")))"
   ]
  },
  {
   "cell_type": "markdown",
   "metadata": {},
   "source": [
    "## Part 1"
   ]
  },
  {
   "cell_type": "code",
   "execution_count": 2,
   "metadata": {},
   "outputs": [
    {
     "name": "stdout",
     "output_type": "stream",
     "text": [
      "2450\n"
     ]
    }
   ],
   "source": [
    "diffs = [1, 3]\r\n",
    "used = set()\r\n",
    "for x, ad in enumerate(data[:-1]):\r\n",
    "    diffs += [data[x+1] - data[x]]\r\n",
    "print(diffs.count(1) * diffs.count(3))"
   ]
  },
  {
   "cell_type": "markdown",
   "metadata": {},
   "source": [
    "## Part 2"
   ]
  },
  {
   "cell_type": "code",
   "execution_count": 3,
   "metadata": {},
   "outputs": [
    {
     "name": "stdout",
     "output_type": "stream",
     "text": [
      "32396521357312\n"
     ]
    }
   ],
   "source": [
    "new_data = [0] + data + [data[-1] + 3]\r\n",
    "ways = [1, 1, 3 - (new_data[2] - new_data[0] <= 3), *[0] * (len(data) - 1)]\r\n",
    "\r\n",
    "for x in range(3, len(new_data)):\r\n",
    "    ways[x] += sum(ways[x-y] for y in range(1, 4) if new_data[x] - new_data[x - y] <= 3)\r\n",
    "\r\n",
    "print(ways[-1])"
   ]
  }
 ],
 "metadata": {
  "kernelspec": {
   "display_name": "Python 3",
   "language": "python",
   "name": "python3"
  },
  "language_info": {
   "codemirror_mode": {
    "name": "ipython",
    "version": 3
   },
   "file_extension": ".py",
   "mimetype": "text/x-python",
   "name": "python",
   "nbconvert_exporter": "python",
   "pygments_lexer": "ipython3",
   "version": "3.7.9"
  },
  "orig_nbformat": 2
 },
 "nbformat": 4,
 "nbformat_minor": 2
}