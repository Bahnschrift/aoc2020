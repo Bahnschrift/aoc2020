{
 "cells": [
  {
   "cell_type": "markdown",
   "metadata": {},
   "source": [
    "# Advent of code 2020: Day 17\r\n",
    "\r\n",
    "Import Data from web:"
   ]
  },
  {
   "cell_type": "code",
   "execution_count": 1,
   "metadata": {},
   "outputs": [],
   "source": [
    "import math as M\r\n",
    "import collections as C\r\n",
    "import bahnslib as B\r\n",
    "import itertools as I\r\n",
    "import requests\r\n",
    "\r\n",
    "day = 17\r\n",
    "\r\n",
    "if open(f\"../inputs/{str(day).zfill(2)}.txt\", \"r\").read() == \"\":\r\n",
    "    url = f\"https://adventofcode.com/2020/day/{day}/input\"\r\n",
    "    id = open(\"../downloader/session_id.txt\", \"r\").readline().strip()\r\n",
    "    cookies = {\r\n",
    "        \"session\": id\r\n",
    "    }\r\n",
    "    r = requests.post(url, cookies=cookies, allow_redirects=True)\r\n",
    "    open(f\"../inputs/{str(day).zfill(2)}.txt\", \"w\").write(r.text)\r\n",
    "\r\n",
    "file = open(f\"../inputs/{str(day).zfill(2)}.txt\", \"r\")\r\n",
    "data = [*map(str.rstrip, file.readlines())]\r\n",
    "file.close()"
   ]
  },
  {
   "cell_type": "code",
   "execution_count": 2,
   "metadata": {},
   "outputs": [],
   "source": [
    "def move(on, dim):\r\n",
    "    new = set()\r\n",
    "    min_vals = [min(cube[di] for cube in on) for di in range(dim)]\r\n",
    "    max_vals = [max(cube[di] for cube in on) for di in range(dim)]\r\n",
    "    positions = I.product(*[range(min_vals[di] - 1, 2 + max_vals[di]) for di in range(dim)])\r\n",
    "    for cube_pos in positions:\r\n",
    "        c = 0\r\n",
    "        for neighbour_offset in set(I.product([0, 1, -1], repeat=dim)) - {(0,) * dim}:\r\n",
    "            neighbour_pos = tuple(map(sum, zip(cube_pos, neighbour_offset)))\r\n",
    "            if neighbour_pos in on:\r\n",
    "                c += 1\r\n",
    "        if c == 3 or cube_pos in on and c == 2:\r\n",
    "            new.add(cube_pos)\r\n",
    "    return new"
   ]
  },
  {
   "cell_type": "code",
   "execution_count": 3,
   "metadata": {},
   "outputs": [],
   "source": [
    "def play(data, dim, moves=6):\r\n",
    "    on = set((x, y, *(0,) * (dim - 2)) for x, y in I.product(range(len(data)), range(len(data[0]))) if data[y][x] == \"#\")    \r\n",
    "    for x in range(moves):\r\n",
    "        on = move(on, dim)\r\n",
    "    return len(on)"
   ]
  },
  {
   "cell_type": "markdown",
   "metadata": {},
   "source": [
    "## Part 1"
   ]
  },
  {
   "cell_type": "code",
   "execution_count": 4,
   "metadata": {},
   "outputs": [
    {
     "name": "stdout",
     "output_type": "stream",
     "text": [
      "265\n"
     ]
    }
   ],
   "source": [
    "print(play(data, 3))"
   ]
  },
  {
   "cell_type": "markdown",
   "metadata": {},
   "source": [
    "## Part 2"
   ]
  },
  {
   "cell_type": "code",
   "execution_count": 5,
   "metadata": {},
   "outputs": [
    {
     "name": "stdout",
     "output_type": "stream",
     "text": [
      "1936\n"
     ]
    }
   ],
   "source": [
    "print(play(data, 4))"
   ]
  },
  {
   "cell_type": "markdown",
   "metadata": {},
   "source": [
    "## As few lines as possible"
   ]
  },
  {
   "cell_type": "code",
   "execution_count": 6,
   "metadata": {},
   "outputs": [],
   "source": [
    "def play(data, dim, moves=6):\r\n",
    "    for x in range(moves + 1): on = {(x, y, *(0,) * (dim - 2)) for x, y in __import__(\"itertools\").product(range(len(data)), range(len(data[0]))) if data[y][x] == \"#\"} if x==0 else {cube_pos for cube_pos in __import__(\"itertools\").product(*[range([min(cube[di] for cube in on) for di in range(dim)][di] - 1, 2 + [max(cube[di] for cube in on) for di in range(dim)][di]) for di in range(dim)]) if len([neighbour_offset for neighbour_offset in set(__import__(\"itertools\").product((-1, 0, 1), repeat=dim)) - {(0,) * dim} if tuple(map(sum, zip(cube_pos, neighbour_offset))) in on]) == 3 or cube_pos in on and len([neighbour_offset for neighbour_offset in set(__import__(\"itertools\").product((-1, 0, 1), repeat=dim)) - {(0,) * dim} if tuple(map(sum, zip(cube_pos, neighbour_offset))) in on]) == 2}\r\n",
    "    return len(on)"
   ]
  },
  {
   "cell_type": "code",
   "execution_count": 7,
   "metadata": {},
   "outputs": [
    {
     "name": "stdout",
     "output_type": "stream",
     "text": [
      "Part 1: 265\n",
      "Part 2: 1936\n"
     ]
    }
   ],
   "source": [
    "print(*[f\"Part {part}: {play(open('../inputs/17.txt').read().splitlines(), dim)}\" for part, dim in enumerate((3, 4), 1)], sep=\"\\n\")"
   ]
  }
 ],
 "metadata": {
  "kernelspec": {
   "display_name": "Python 3",
   "language": "python",
   "name": "python3"
  },
  "language_info": {
   "codemirror_mode": {
    "name": "ipython",
    "version": 3
   },
   "file_extension": ".py",
   "mimetype": "text/x-python",
   "name": "python",
   "nbconvert_exporter": "python",
   "pygments_lexer": "ipython3",
   "version": "3.7.9"
  },
  "orig_nbformat": 2
 },
 "nbformat": 4,
 "nbformat_minor": 2
}