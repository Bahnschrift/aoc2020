{
 "cells": [
  {
   "cell_type": "markdown",
   "metadata": {},
   "source": [
    "# Advent of code 2020: Day 5"
   ]
  },
  {
   "cell_type": "markdown",
   "metadata": {},
   "source": [
    "## Import"
   ]
  },
  {
   "cell_type": "code",
   "execution_count": 1,
   "metadata": {},
   "outputs": [],
   "source": [
    "import math as M\n",
    "import collections as C\n",
    "import bahnslib as B\n",
    "from itertools import combinations\n",
    "import requests\n",
    "\n",
    "day = 5\n",
    "\n",
    "if open(f\"../inputs/{str(day).zfill(2)}.txt\", \"r\").read() == \"\":\n",
    "    url = f\"https://adventofcode.com/2020/day/{day}/input\"\n",
    "    id = open(\"../downloader/session_id.txt\", \"r\").readline().strip()\n",
    "    cookies = {\n",
    "        \"session\": id\n",
    "    }\n",
    "    r = requests.post(url, cookies=cookies, allow_redirects=True)\n",
    "    open(f\"../inputs/{str(day).zfill(2)}.txt\", \"w\").write(r.text)\n",
    "\n",
    "file = open(f\"../inputs/{str(day).zfill(2)}.txt\", \"r\")\n",
    "data = [*map(str.rstrip, file.readlines())]\n",
    "file.close()"
   ]
  },
  {
   "cell_type": "markdown",
   "metadata": {},
   "source": [
    "## Part 1"
   ]
  },
  {
   "cell_type": "code",
   "execution_count": 2,
   "metadata": {},
   "outputs": [
    {
     "name": "stdout",
     "output_type": "stream",
     "text": [
      "938\n"
     ]
    }
   ],
   "source": [
    "print(max(int(line.translate(\"\".maketrans(\"FBLR\",\"0101\")), 2) for line in data))"
   ]
  },
  {
   "cell_type": "markdown",
   "metadata": {},
   "source": [
    "## Part 2"
   ]
  },
  {
   "cell_type": "code",
   "execution_count": 3,
   "metadata": {},
   "outputs": [
    {
     "name": "stdout",
     "output_type": "stream",
     "text": [
      "696\n"
     ]
    }
   ],
   "source": [
    "ids = sorted(int(line.translate(\"\".maketrans(\"FBLR\",\"0101\")), 2) for line in data)\n",
    "for x in range(1, len(ids)):\n",
    "    if ids[x] - ids[x - 1] == 2:\n",
    "        print(ids[x] - 1)"
   ]
  }
 ],
 "metadata": {
  "kernelspec": {
   "display_name": "Python 3",
   "name": "python3"
  },
  "language_info": {
   "codemirror_mode": {
    "name": "ipython",
    "version": 3
   },
   "file_extension": ".py",
   "mimetype": "text/x-python",
   "name": "python",
   "nbconvert_exporter": "python",
   "pygments_lexer": "ipython3",
   "version": "3.7.9-final"
  },
  "orig_nbformat": 2
 },
 "nbformat": 4,
 "nbformat_minor": 2
}