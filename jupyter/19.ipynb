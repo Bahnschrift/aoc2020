{
 "cells": [
  {
   "cell_type": "markdown",
   "metadata": {},
   "source": [
    "# Advent of code 2020: Day 19\r\n",
    "_This could probably be one line, might shorten in later_"
   ]
  },
  {
   "cell_type": "markdown",
   "metadata": {},
   "source": [
    "## Import"
   ]
  },
  {
   "cell_type": "code",
   "execution_count": 39,
   "metadata": {},
   "outputs": [],
   "source": [
    "import math as M\r\n",
    "import collections as C\r\n",
    "import bahnslib as B\r\n",
    "import itertools as I\r\n",
    "import re\r\n",
    "from copy import copy\r\n",
    "\r\n",
    "\r\n",
    "day = 19\r\n",
    "data = B.get_aoc_input(day, f\"../inputs/{day}.txt\", format=\"lines\")"
   ]
  },
  {
   "cell_type": "markdown",
   "metadata": {},
   "source": [
    "## Common"
   ]
  },
  {
   "cell_type": "code",
   "execution_count": 40,
   "metadata": {},
   "outputs": [],
   "source": [
    "rules = {}\r\n",
    "r, lines = B.split(data, \"\")\r\n",
    "for row in r:\r\n",
    "    rules[row.split(\": \")[0]] = row.split(\": \")[1]"
   ]
  },
  {
   "cell_type": "code",
   "execution_count": 41,
   "metadata": {},
   "outputs": [],
   "source": [
    "def solve(rules):\r\n",
    "    solved = {}\r\n",
    "    while \"0\" not in solved:\r\n",
    "        for n in rules:\r\n",
    "            rule = rules[n]\r\n",
    "            if rule[0] == '\"':\r\n",
    "                solved[n] = list(rule)[1]\r\n",
    "                continue\r\n",
    "            \r\n",
    "            sets = rule.split(' ')\r\n",
    "            b = any(subset not in solved and subset != \"|\" for subset in sets)\r\n",
    "            if b:\r\n",
    "                continue\r\n",
    "            \r\n",
    "            rs = \"\"\r\n",
    "            for subset in sets:\r\n",
    "                rs += \"|\" if subset == \"|\" else solved[subset]\r\n",
    "            solved[n] = f\"({rs})\"\r\n",
    "    return solved"
   ]
  },
  {
   "cell_type": "markdown",
   "metadata": {},
   "source": [
    "## Part 1"
   ]
  },
  {
   "cell_type": "code",
   "execution_count": 46,
   "metadata": {},
   "outputs": [
    {
     "name": "stdout",
     "output_type": "stream",
     "text": [
      "Yeet: 241\n"
     ]
    }
   ],
   "source": [
    "B.yeet(sum([1 for line in lines if re.fullmatch(solve(rules)[\"0\"], line)]))"
   ]
  },
  {
   "cell_type": "markdown",
   "metadata": {},
   "source": [
    "## Part 2"
   ]
  },
  {
   "cell_type": "code",
   "execution_count": 43,
   "metadata": {},
   "outputs": [],
   "source": [
    "solved = solve(rules)\r\n",
    "new_rules = {a:b for a, b in rules.items()}\r\n",
    "new_rules[\"8\"] = \"42 | 42 8\"\r\n",
    "new_rules[\"11\"] = \"42 31 | 42 11 31\""
   ]
  },
  {
   "cell_type": "code",
   "execution_count": 45,
   "metadata": {},
   "outputs": [
    {
     "name": "stdout",
     "output_type": "stream",
     "text": [
      "Yeet: 241\n"
     ]
    }
   ],
   "source": [
    "checked = set()\r\n",
    "while True:\r\n",
    "    a = False\r\n",
    "    for n in new_rules:\r\n",
    "        rule = rules[n]\r\n",
    "        if rule[0] == '\"':\r\n",
    "            solved[n] = list(rule)[1]\r\n",
    "            continue\r\n",
    "        \r\n",
    "        sets = rule.split(' ')\r\n",
    "        b = any(subset not in solved and subset != \"|\" for subset in sets)\r\n",
    "        if b:\r\n",
    "            continue\r\n",
    "        \r\n",
    "        rs = \"\"\r\n",
    "        for subset in sets:\r\n",
    "            rs += \"|\" if subset == \"|\" else solved[subset]\r\n",
    "        solved[n] = f\"({rs})\"\r\n",
    "\r\n",
    "    for line in lines:\r\n",
    "        if re.fullmatch(solved[\"0\"], line) and line not in checked:\r\n",
    "            checked.add(line)\r\n",
    "            a = True\r\n",
    "    if not(a):\r\n",
    "        B.yeet(len(checked))\r\n",
    "        break"
   ]
  }
 ],
 "metadata": {
  "kernelspec": {
   "display_name": "Python 3",
   "language": "python",
   "name": "python3"
  },
  "language_info": {
   "codemirror_mode": {
    "name": "ipython",
    "version": 3
   },
   "file_extension": ".py",
   "mimetype": "text/x-python",
   "name": "python",
   "nbconvert_exporter": "python",
   "pygments_lexer": "ipython3",
   "version": "3.7.9"
  },
  "orig_nbformat": 2
 },
 "nbformat": 4,
 "nbformat_minor": 2
}