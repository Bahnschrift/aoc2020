{
 "cells": [
  {
   "cell_type": "markdown",
   "metadata": {},
   "source": [
    "# Advent of code 2020: Day 21"
   ]
  },
  {
   "cell_type": "markdown",
   "metadata": {},
   "source": [
    "## Import"
   ]
  },
  {
   "cell_type": "code",
   "execution_count": 1,
   "metadata": {},
   "outputs": [],
   "source": [
    "import math as M\r\n",
    "import collections as C\r\n",
    "import bahnslib as B\r\n",
    "import itertools as I\r\n",
    "import re\r\n",
    "\r\n",
    "\r\n",
    "day = 21\r\n",
    "data = B.get_aoc_input(day, f\"../inputs/{day}.txt\", format=\"lines\")"
   ]
  },
  {
   "cell_type": "markdown",
   "metadata": {},
   "source": [
    "## Part 1"
   ]
  },
  {
   "cell_type": "code",
   "execution_count": 2,
   "metadata": {},
   "outputs": [
    {
     "name": "stdout",
     "output_type": "stream",
     "text": [
      "2078\n"
     ]
    }
   ],
   "source": [
    "allergen_to_codes = {}\r\n",
    "all_codes = set()\r\n",
    "for line in data:\r\n",
    "    codes, allergens = line[:-1].split(\" (contains \", 1)\r\n",
    "    allergens = allergens.split(\", \")\r\n",
    "    codes = codes.split()\r\n",
    "    all_codes |= set(codes)\r\n",
    "    for allergen in allergens:\r\n",
    "        if allergen in allergen_to_codes:\r\n",
    "            allergen_to_codes[allergen] &= set(codes)\r\n",
    "        else:\r\n",
    "            allergen_to_codes[allergen] = set(codes)\r\n",
    "\r\n",
    "confirmed = all_codes - set.union(*[set(x) for x in allergen_to_codes.values()])\r\n",
    "print(sum(sum(code in confirmed for code in line.split(\" (\")[0].split(\" \")) for line in data))"
   ]
  },
  {
   "cell_type": "markdown",
   "metadata": {},
   "source": [
    "## Part 2"
   ]
  },
  {
   "cell_type": "code",
   "execution_count": 3,
   "metadata": {},
   "outputs": [
    {
     "name": "stdout",
     "output_type": "stream",
     "text": [
      "lmcqt,kcddk,npxrdnd,cfb,ldkt,fqpt,jtfmtpd,tsch\n"
     ]
    }
   ],
   "source": [
    "for key in sorted(allergen_to_codes, key=lambda key: len(allergen_to_codes[key])):\r\n",
    "    if len(allergen_to_codes[key]) >= 1:\r\n",
    "        allergen = next(iter(allergen_to_codes[key]))\r\n",
    "        for other in [x for x in allergen_to_codes if x != key]:\r\n",
    "            allergen_to_codes[other].discard(allergen)\r\n",
    "\r\n",
    "print(*[next(iter(allergen_to_codes[x])) for x in sorted(allergen_to_codes)], sep=\",\")"
   ]
  }
 ],
 "metadata": {
  "kernelspec": {
   "display_name": "Python 3",
   "language": "python",
   "name": "python3"
  },
  "language_info": {
   "codemirror_mode": {
    "name": "ipython",
    "version": 3
   },
   "file_extension": ".py",
   "mimetype": "text/x-python",
   "name": "python",
   "nbconvert_exporter": "python",
   "pygments_lexer": "ipython3",
   "version": "3.7.9"
  },
  "orig_nbformat": 2
 },
 "nbformat": 4,
 "nbformat_minor": 2
}