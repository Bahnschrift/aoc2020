{
 "cells": [
  {
   "cell_type": "markdown",
   "metadata": {},
   "source": [
    "# Advent of code 2020: Day 24"
   ]
  },
  {
   "cell_type": "markdown",
   "metadata": {},
   "source": [
    "## Import"
   ]
  },
  {
   "cell_type": "code",
   "execution_count": 33,
   "metadata": {},
   "outputs": [],
   "source": [
    "import math as M\r\n",
    "import collections as C\r\n",
    "import bahnslib as B\r\n",
    "import itertools as I\r\n",
    "import re\r\n",
    "\r\n",
    "\r\n",
    "day = 24\r\n",
    "data = B.get_aoc_input(day, f\"../inputs/{day}.txt\", format=\"lines\")"
   ]
  },
  {
   "cell_type": "markdown",
   "metadata": {},
   "source": [
    "## Part 1"
   ]
  },
  {
   "cell_type": "code",
   "execution_count": 34,
   "metadata": {},
   "outputs": [],
   "source": [
    "def format_dirs(line):\r\n",
    "    dirs = []\r\n",
    "    last = line[0]\r\n",
    "    if last not in \"ns\":\r\n",
    "        dirs += [last]\r\n",
    "        last = None\r\n",
    "    for c in line[1:]:\r\n",
    "        if last in (\"s\", \"n\"):\r\n",
    "            dirs += [last + c]\r\n",
    "            last = None\r\n",
    "        elif c in (\"s\", \"n\"):\r\n",
    "            last = c\r\n",
    "        else:\r\n",
    "            dirs += [c]\r\n",
    "            last = None\r\n",
    "    return dirs\r\n",
    "\r\n",
    "def get_pos(dirs, pos=(0, 0)):\r\n",
    "    pos = list(pos)\r\n",
    "    for di in dirs:\r\n",
    "        if di == \"e\":\r\n",
    "            pos[1] += 1\r\n",
    "        elif di == \"w\":\r\n",
    "            pos[1] -= 1\r\n",
    "        elif di == \"se\":\r\n",
    "            pos[0] -= 1\r\n",
    "        elif di == \"sw\":\r\n",
    "            pos[0] -= 1\r\n",
    "            pos[1] -= 1\r\n",
    "        elif di == \"ne\":\r\n",
    "            pos[0] += 1\r\n",
    "            pos[1] += 1\r\n",
    "        elif di == \"nw\":\r\n",
    "            pos[0] += 1\r\n",
    "    return tuple(pos)"
   ]
  },
  {
   "cell_type": "code",
   "execution_count": 35,
   "metadata": {},
   "outputs": [
    {
     "name": "stdout",
     "output_type": "stream",
     "text": [
      "450\n"
     ]
    }
   ],
   "source": [
    "def get_initial(data):\r\n",
    "    visited = set()\r\n",
    "    for dirs in map(format_dirs, data):\r\n",
    "        pos = get_pos(dirs)\r\n",
    "        if pos in visited:\r\n",
    "            visited.remove(pos)\r\n",
    "        else:\r\n",
    "            visited.add(pos)\r\n",
    "    return visited\r\n",
    "\r\n",
    "print(len(get_initial(data)))"
   ]
  },
  {
   "cell_type": "markdown",
   "metadata": {},
   "source": [
    "## Part 2"
   ]
  },
  {
   "cell_type": "code",
   "execution_count": 36,
   "metadata": {},
   "outputs": [
    {
     "name": "stdout",
     "output_type": "stream",
     "text": [
      "4059\n"
     ]
    }
   ],
   "source": [
    "active = get_initial(data)\r\n",
    "for _ in range(100):\r\n",
    "    min_vals = [min(pos[x] for pos in active) for x in range(2)]\r\n",
    "    max_vals = [max(pos[x] for pos in active) for x in range(2)]\r\n",
    "    new = set(active)\r\n",
    "    for pos in I.product(range(min_vals[0] - 2, max_vals[0] + 3), range(min_vals[1] - 1, max_vals[1] + 2)):\r\n",
    "        c = 0\r\n",
    "        for neighbour_offset in [(0, 1), (0, -1), (-1, -1), (1, 1), (1, 0), (-1, 0)]:\r\n",
    "            neighbour_pos = tuple(map(sum, zip(pos, neighbour_offset)))\r\n",
    "            if neighbour_pos in active:\r\n",
    "                c += 1\r\n",
    "        if (c == 0 or c > 2) and (pos in active):\r\n",
    "            new.remove(pos)\r\n",
    "        elif (c == 2) and (pos not in active):\r\n",
    "            new.add(pos)\r\n",
    "    active = new\r\n",
    "\r\n",
    "print(len(active))"
   ]
  }
 ],
 "metadata": {
  "kernelspec": {
   "display_name": "Python 3",
   "language": "python",
   "name": "python3"
  },
  "language_info": {
   "codemirror_mode": {
    "name": "ipython",
    "version": 3
   },
   "file_extension": ".py",
   "mimetype": "text/x-python",
   "name": "python",
   "nbconvert_exporter": "python",
   "pygments_lexer": "ipython3",
   "version": "3.7.9"
  },
  "orig_nbformat": 2
 },
 "nbformat": 4,
 "nbformat_minor": 2
}