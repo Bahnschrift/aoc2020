{
 "cells": [
  {
   "cell_type": "markdown",
   "metadata": {},
   "source": [
    "# Advent of code 2020: Day 12\r\n",
    "\r\n",
    "Import Data from web:"
   ]
  },
  {
   "cell_type": "code",
   "execution_count": 1,
   "metadata": {},
   "outputs": [],
   "source": [
    "import math as M\r\n",
    "import collections as C\r\n",
    "import bahnslib as B\r\n",
    "from itertools import combinations\r\n",
    "import requests\r\n",
    "\r\n",
    "day = 12\r\n",
    "\r\n",
    "if open(f\"../inputs/{str(day).zfill(2)}.txt\", \"r\").read() == \"\":\r\n",
    "    url = f\"https://adventofcode.com/2020/day/{day}/input\"\r\n",
    "    id = open(\"../downloader/session_id.txt\", \"r\").readline().strip()\r\n",
    "    cookies = {\r\n",
    "        \"session\": id\r\n",
    "    }\r\n",
    "    r = requests.post(url, cookies=cookies, allow_redirects=True)\r\n",
    "    open(f\"../inputs/{str(day).zfill(2)}.txt\", \"w\").write(r.text)\r\n",
    "\r\n",
    "file = open(f\"../inputs/{str(day).zfill(2)}.txt\", \"r\")\r\n",
    "data = [*map(str.rstrip, file.readlines())]\r\n",
    "file.close()"
   ]
  },
  {
   "cell_type": "markdown",
   "metadata": {},
   "source": [
    "Paste test data here"
   ]
  },
  {
   "cell_type": "code",
   "execution_count": 2,
   "metadata": {},
   "outputs": [],
   "source": [
    "data = \"\"\"F10\r\n",
    "N3\r\n",
    "F7\r\n",
    "R90\r\n",
    "F11\"\"\".split(\"\\n\")"
   ]
  },
  {
   "cell_type": "markdown",
   "metadata": {},
   "source": [
    "## Part 1"
   ]
  },
  {
   "cell_type": "code",
   "execution_count": 3,
   "metadata": {},
   "outputs": [
    {
     "name": "stdout",
     "output_type": "stream",
     "text": [
      "25\n"
     ]
    }
   ],
   "source": [
    "rots = {0: \"N\", 90: \"E\", 180: \"S\", 270: \"W\"}\r\n",
    "dirs = {\"N\": (0, 1), \"S\": (0, -1), \"E\": (1, 0), \"W\": (-1, 0)}\r\n",
    "\r\n",
    "x, y = 0, 0\r\n",
    "fac = 90\r\n",
    "for line in data:\r\n",
    "    ins = line[0]\r\n",
    "    n = int(line[1:])\r\n",
    "    if ins in \"NSWE\":\r\n",
    "        x += n * dirs[ins][0]\r\n",
    "        y += n * dirs[ins][1]\r\n",
    "    elif ins == \"L\":\r\n",
    "        fac -= n\r\n",
    "        fac %= 360\r\n",
    "    elif ins == \"R\":\r\n",
    "        fac += n\r\n",
    "        fac %= 360\r\n",
    "    elif ins == \"F\":\r\n",
    "        x += n * dirs[rots[fac]][0]\r\n",
    "        y += n * dirs[rots[fac]][1]\r\n",
    "print(abs(x) + abs(y))\r\n"
   ]
  },
  {
   "cell_type": "markdown",
   "metadata": {},
   "source": [
    "## Part 2"
   ]
  },
  {
   "cell_type": "code",
   "execution_count": 4,
   "metadata": {},
   "outputs": [
    {
     "name": "stdout",
     "output_type": "stream",
     "text": [
      "286\n"
     ]
    }
   ],
   "source": [
    "dirs = {\"N\": (0, 1), \"S\": (0, -1), \"E\": (1, 0), \"W\": (-1, 0)}\r\n",
    "\r\n",
    "sx, sy = 0, 0\r\n",
    "dx, dy = 10, 1  # Distance between ship and waypoint\r\n",
    "for line in data:\r\n",
    "    ins = line[0]\r\n",
    "    n = int(line[1:])\r\n",
    "    if ins in \"NSWE\":\r\n",
    "        dx += n * dirs[ins][0]\r\n",
    "        dy += n * dirs[ins][1]\r\n",
    "    elif ins == \"L\":\r\n",
    "        for i in range(n // 90):\r\n",
    "            dx, dy = -dy, dx\r\n",
    "    elif ins == \"R\":\r\n",
    "        for i in range(n // 90):\r\n",
    "            dx, dy = dy, -dx\r\n",
    "    elif ins == \"F\":\r\n",
    "        sx += n * dx\r\n",
    "        sy += n * dy\r\n",
    "print(abs(sx) + abs(sy))"
   ]
  }
 ],
 "metadata": {
  "kernelspec": {
   "display_name": "Python 3",
   "language": "python",
   "name": "python3"
  },
  "language_info": {
   "codemirror_mode": {
    "name": "ipython",
    "version": 3
   },
   "file_extension": ".py",
   "mimetype": "text/x-python",
   "name": "python",
   "nbconvert_exporter": "python",
   "pygments_lexer": "ipython3",
   "version": "3.7.9-final"
  },
  "orig_nbformat": 2
 },
 "nbformat": 4,
 "nbformat_minor": 2
}