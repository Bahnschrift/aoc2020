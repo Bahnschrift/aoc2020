{
 "cells": [
  {
   "cell_type": "markdown",
   "metadata": {},
   "source": [
    "# Advent of code 2020: Day 6"
   ]
  },
  {
   "cell_type": "markdown",
   "metadata": {},
   "source": [
    "## Import"
   ]
  },
  {
   "cell_type": "code",
   "execution_count": 1,
   "metadata": {},
   "outputs": [],
   "source": [
    "import math as M\r\n",
    "import collections as C\r\n",
    "import bahnslib as B\r\n",
    "from itertools import combinations\r\n",
    "import requests\r\n",
    "\r\n",
    "day = 6\r\n",
    "\r\n",
    "if open(f\"../inputs/{str(day).zfill(2)}.txt\", \"r\").read() == \"\":\r\n",
    "    url = f\"https://adventofcode.com/2020/day/{day}/input\"\r\n",
    "    id = open(\"../downloader/session_id.txt\", \"r\").readline().strip()\r\n",
    "    cookies = {\r\n",
    "        \"session\": id\r\n",
    "    }\r\n",
    "    r = requests.post(url, cookies=cookies, allow_redirects=True)\r\n",
    "    open(f\"../inputs/{str(day).zfill(2)}.txt\", \"w\").write(r.text)\r\n",
    "\r\n",
    "file = open(f\"../inputs/{str(day).zfill(2)}.txt\", \"r\")\r\n",
    "data = [*map(str.rstrip, file.readlines())]\r\n",
    "file.close()"
   ]
  },
  {
   "cell_type": "markdown",
   "metadata": {},
   "source": [
    "## Part 1"
   ]
  },
  {
   "cell_type": "code",
   "execution_count": 2,
   "metadata": {},
   "outputs": [
    {
     "name": "stdout",
     "output_type": "stream",
     "text": [
      "6683\n"
     ]
    }
   ],
   "source": [
    "print(sum(len(set.union(*map(set,group))) for group in B.split(data, \"\")))"
   ]
  },
  {
   "cell_type": "markdown",
   "metadata": {},
   "source": [
    "## Part 2\r\n",
    "\r\n",
    "_Literally the same as part 1 except with intersections instead of unions_"
   ]
  },
  {
   "cell_type": "code",
   "execution_count": 3,
   "metadata": {},
   "outputs": [
    {
     "name": "stdout",
     "output_type": "stream",
     "text": [
      "3122\n"
     ]
    }
   ],
   "source": [
    "print(sum(len(set.intersection(*map(set,group))) for group in B.split(data, \"\")))"
   ]
  }
 ],
 "metadata": {
  "kernelspec": {
   "display_name": "Python 3",
   "name": "python3"
  },
  "language_info": {
   "codemirror_mode": {
    "name": "ipython",
    "version": 3
   },
   "file_extension": ".py",
   "mimetype": "text/x-python",
   "name": "python",
   "nbconvert_exporter": "python",
   "pygments_lexer": "ipython3",
   "version": "3.7.9-final"
  },
  "orig_nbformat": 2
 },
 "nbformat": 4,
 "nbformat_minor": 2
}