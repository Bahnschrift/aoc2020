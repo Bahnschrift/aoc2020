{
 "cells": [
  {
   "cell_type": "markdown",
   "metadata": {},
   "source": [
    "# Advent of code 2020: Day 13\r\n",
    "\r\n",
    "Import Data from web:"
   ]
  },
  {
   "cell_type": "code",
   "execution_count": 1,
   "metadata": {},
   "outputs": [],
   "source": [
    "import math as M\r\n",
    "import collections as C\r\n",
    "import bahnslib as B\r\n",
    "from itertools import combinations\r\n",
    "import requests\r\n",
    "\r\n",
    "day = 13\r\n",
    "\r\n",
    "if open(f\"../inputs/{str(day).zfill(2)}.txt\", \"r\").read() == \"\":\r\n",
    "    url = f\"https://adventofcode.com/2020/day/{day}/input\"\r\n",
    "    id = open(\"../downloader/session_id.txt\", \"r\").readline().strip()\r\n",
    "    cookies = {\r\n",
    "        \"session\": id\r\n",
    "    }\r\n",
    "    r = requests.post(url, cookies=cookies, allow_redirects=True)\r\n",
    "    open(f\"../inputs/{str(day).zfill(2)}.txt\", \"w\").write(r.text)\r\n",
    "\r\n",
    "file = open(f\"../inputs/{str(day).zfill(2)}.txt\", \"r\")\r\n",
    "data = [*map(str.rstrip, file.readlines())]\r\n",
    "file.close()"
   ]
  },
  {
   "cell_type": "markdown",
   "metadata": {},
   "source": [
    "## Part 1"
   ]
  },
  {
   "cell_type": "code",
   "execution_count": 2,
   "metadata": {},
   "outputs": [
    {
     "name": "stdout",
     "output_type": "stream",
     "text": [
      "6568\n"
     ]
    }
   ],
   "source": [
    "earliest = int(data[0])\r\n",
    "busses = {int(x):0 for x in data[1].split(\",\") if x.isdigit()}\r\n",
    "for bus in busses:\r\n",
    "    busses[bus] = M.ceil(earliest / bus) * bus\r\n",
    "k = min(busses, key=busses.get)\r\n",
    "print(k * (busses[k] - earliest))\r\n"
   ]
  },
  {
   "cell_type": "markdown",
   "metadata": {},
   "source": [
    "## Part 2"
   ]
  },
  {
   "cell_type": "code",
   "execution_count": 3,
   "metadata": {},
   "outputs": [
    {
     "name": "stdout",
     "output_type": "stream",
     "text": [
      "554865447501099\n"
     ]
    }
   ],
   "source": [
    "busses = [[index, int(value)] for index, value in enumerate(data[1].split(\",\")) if value.isdigit()]\r\n",
    "\r\n",
    "best_index = 1\r\n",
    "step = busses[0][1]\r\n",
    "k = step\r\n",
    "while True:\r\n",
    "    good = True\r\n",
    "    for index, bus in busses:\r\n",
    "        if (k + index) % bus == 0:\r\n",
    "            if index > best_index:\r\n",
    "                best_index = index\r\n",
    "                step *= bus\r\n",
    "        else:\r\n",
    "            good = False\r\n",
    "            break\r\n",
    "    if good:\r\n",
    "        print(k)\r\n",
    "        break\r\n",
    "    k += step"
   ]
  }
 ],
 "metadata": {
  "kernelspec": {
   "display_name": "Python 3",
   "language": "python",
   "name": "python3"
  },
  "language_info": {
   "codemirror_mode": {
    "name": "ipython",
    "version": 3
   },
   "file_extension": ".py",
   "mimetype": "text/x-python",
   "name": "python",
   "nbconvert_exporter": "python",
   "pygments_lexer": "ipython3",
   "version": "3.7.9-final"
  },
  "orig_nbformat": 2
 },
 "nbformat": 4,
 "nbformat_minor": 2
}