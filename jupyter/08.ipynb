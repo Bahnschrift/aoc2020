{
 "cells": [
  {
   "cell_type": "markdown",
   "metadata": {},
   "source": [
    "# Advent of code 2020: Day 8"
   ]
  },
  {
   "cell_type": "markdown",
   "metadata": {},
   "source": [
    "## Import"
   ]
  },
  {
   "cell_type": "code",
   "execution_count": 1,
   "metadata": {},
   "outputs": [],
   "source": [
    "import math as M\r\n",
    "import collections as C\r\n",
    "import bahnslib as B\r\n",
    "import itertools as I\r\n",
    "\r\n",
    "\r\n",
    "day = 8\r\n",
    "data = B.get_aoc_input(day, f\"../inputs/{str(day).zfill(2)}.txt\", format=\"lines\")"
   ]
  },
  {
   "cell_type": "markdown",
   "metadata": {},
   "source": [
    "## Common"
   ]
  },
  {
   "cell_type": "code",
   "execution_count": 2,
   "metadata": {},
   "outputs": [],
   "source": [
    "def run(lines):\r\n",
    "    k = 0\r\n",
    "    acc = 0\r\n",
    "    ran = set()\r\n",
    "    while True:\r\n",
    "        instruction, value = lines[k].split()\r\n",
    "        value = int(value)\r\n",
    "        potential_end = k == len(lines) - 1  # prevents cases where jmp moves the pointer past the final cell from reporting good end\r\n",
    "        if k in ran:\r\n",
    "            return [False, acc]\r\n",
    "        ran.add(k)\r\n",
    "        if instruction == \"acc\":\r\n",
    "            acc += value\r\n",
    "        elif instruction == \"jmp\":\r\n",
    "            k += value - 1\r\n",
    "        elif instruction == \"nop\":\r\n",
    "            pass\r\n",
    "        k += 1\r\n",
    "        if k == len(lines) and potential_end:\r\n",
    "            return [True, acc]"
   ]
  },
  {
   "cell_type": "markdown",
   "metadata": {},
   "source": [
    "## Part 1"
   ]
  },
  {
   "cell_type": "code",
   "execution_count": 3,
   "metadata": {},
   "outputs": [
    {
     "name": "stdout",
     "output_type": "stream",
     "text": [
      "1941\n"
     ]
    }
   ],
   "source": [
    "print(run(data)[1])"
   ]
  },
  {
   "cell_type": "markdown",
   "metadata": {},
   "source": [
    "## Part 2"
   ]
  },
  {
   "cell_type": "code",
   "execution_count": 4,
   "metadata": {},
   "outputs": [
    {
     "name": "stdout",
     "output_type": "stream",
     "text": [
      "2096\n"
     ]
    }
   ],
   "source": [
    "for x, line in enumerate(data):\r\n",
    "    test_data = data[:]\r\n",
    "    if line.split()[0] == \"nop\":\r\n",
    "        test_data[x] = test_data[x].replace(\"nop\", \"jmp\")\r\n",
    "    elif line.split()[0] == \"jmp\":\r\n",
    "        test_data[x] = test_data[x].replace(\"jmp\", \"nop\")\r\n",
    "\r\n",
    "    if run(test_data)[0]:\r\n",
    "        print(run(test_data)[1])"
   ]
  }
 ],
 "metadata": {
  "kernelspec": {
   "display_name": "Python 3",
   "language": "python",
   "name": "python3"
  },
  "language_info": {
   "codemirror_mode": {
    "name": "ipython",
    "version": 3
   },
   "file_extension": ".py",
   "mimetype": "text/x-python",
   "name": "python",
   "nbconvert_exporter": "python",
   "pygments_lexer": "ipython3",
   "version": "3.7.9"
  },
  "orig_nbformat": 2
 },
 "nbformat": 4,
 "nbformat_minor": 2
}