{
 "cells": [
  {
   "cell_type": "markdown",
   "metadata": {},
   "source": [
    "# Advent of code 2020: Day 15\r\n",
    "\r\n",
    "Import Data from web:"
   ]
  },
  {
   "cell_type": "code",
   "execution_count": 5,
   "metadata": {},
   "outputs": [],
   "source": [
    "import math as M\r\n",
    "import collections as C\r\n",
    "import bahnslib as B\r\n",
    "from itertools import combinations\r\n",
    "import requests\r\n",
    "\r\n",
    "day = 15\r\n",
    "\r\n",
    "if open(f\"../inputs/{str(day).zfill(2)}.txt\", \"r\").read() == \"\":\r\n",
    "    url = f\"https://adventofcode.com/2020/day/{day}/input\"\r\n",
    "    id = open(\"../downloader/session_id.txt\", \"r\").readline().strip()\r\n",
    "    cookies = {\r\n",
    "        \"session\": id\r\n",
    "    }\r\n",
    "    r = requests.post(url, cookies=cookies, allow_redirects=True)\r\n",
    "    open(f\"../inputs/{str(day).zfill(2)}.txt\", \"w\").write(r.text)\r\n",
    "\r\n",
    "file = open(f\"../inputs/{str(day).zfill(2)}.txt\", \"r\")\r\n",
    "data = [*map(str.rstrip, file.readlines())][0].split(\",\")\r\n",
    "file.close()"
   ]
  },
  {
   "cell_type": "code",
   "execution_count": 6,
   "metadata": {},
   "outputs": [
    {
     "name": "stdout",
     "output_type": "stream",
     "text": [
      "c:\\Users\\kbeck\\OneDrive\\Code\\Advent of Code\\aoc2020\\pypy_venv\\Scripts\\python.exe\n"
     ]
    }
   ],
   "source": [
    "import sys\r\n",
    "print(sys.executable)"
   ]
  },
  {
   "cell_type": "markdown",
   "metadata": {},
   "source": [
    "## Part 1"
   ]
  },
  {
   "cell_type": "code",
   "execution_count": 7,
   "metadata": {},
   "outputs": [
    {
     "name": "stdout",
     "output_type": "stream",
     "text": [
      "412\n"
     ]
    }
   ],
   "source": [
    "data = [*map(int, data)]\r\n",
    "spoken = {n:[x] for x,n in enumerate(data)}\r\n",
    "i = 0\r\n",
    "n = data[-1]\r\n",
    "for x in range(len(data), 2020):\r\n",
    "    if n not in spoken or len(spoken[n]) == 1:\r\n",
    "        n = 0\r\n",
    "    else:\r\n",
    "        n = spoken[n][-1] - spoken[n][-2]\r\n",
    "    \r\n",
    "    if n in spoken:\r\n",
    "        spoken[n] += [x]\r\n",
    "    else:\r\n",
    "        spoken[n] = [x]\r\n",
    "print(n)\r\n"
   ]
  },
  {
   "cell_type": "markdown",
   "metadata": {},
   "source": [
    "## Part 2"
   ]
  },
  {
   "cell_type": "code",
   "execution_count": 4,
   "metadata": {},
   "outputs": [
    {
     "name": "stdout",
     "output_type": "stream",
     "text": [
      "243\n"
     ]
    }
   ],
   "source": [
    "data = [*map(int, data)]\r\n",
    "spoken = {n:[x] for x,n in enumerate(data)}\r\n",
    "n = data[-1]\r\n",
    "for x in range(len(data), 30000000):\r\n",
    "    if n not in spoken or len(spoken[n]) == 1:\r\n",
    "        n = 0\r\n",
    "    else:\r\n",
    "        n = spoken[n][-1] - spoken[n][-2]\r\n",
    "    if n in spoken:\r\n",
    "        spoken[n] += [x]\r\n",
    "    else:\r\n",
    "        spoken[n] = [x]\r\n",
    "print(str(n))"
   ]
  }
 ],
 "metadata": {
  "kernelspec": {
   "display_name": "Python 3",
   "language": "python",
   "name": "python3"
  },
  "language_info": {
   "codemirror_mode": {
    "name": "ipython",
    "version": 3
   },
   "file_extension": ".py",
   "mimetype": "text/x-python",
   "name": "python",
   "nbconvert_exporter": "python",
   "pygments_lexer": "ipython3",
   "version": "3.7.9-final"
  },
  "orig_nbformat": 2
 },
 "nbformat": 4,
 "nbformat_minor": 2
}