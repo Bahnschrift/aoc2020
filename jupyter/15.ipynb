{
 "cells": [
  {
   "cell_type": "markdown",
   "metadata": {},
   "source": [
    "# Advent of code 2020: Day 15"
   ]
  },
  {
   "cell_type": "markdown",
   "metadata": {},
   "source": [
    "## Import"
   ]
  },
  {
   "cell_type": "code",
   "execution_count": 1,
   "metadata": {},
   "outputs": [],
   "source": [
    "import math as M\r\n",
    "import collections as C\r\n",
    "import bahnslib as B\r\n",
    "import itertools as I\r\n",
    "\r\n",
    "\r\n",
    "day = 15\r\n",
    "data = B.get_aoc_input(day, f\"../inputs/{day}.txt\", format=\"string\").split(\",\")"
   ]
  },
  {
   "cell_type": "markdown",
   "metadata": {},
   "source": [
    "## Part 1"
   ]
  },
  {
   "cell_type": "code",
   "execution_count": 2,
   "metadata": {},
   "outputs": [
    {
     "name": "stdout",
     "output_type": "stream",
     "text": [
      "412\n"
     ]
    }
   ],
   "source": [
    "data = [*map(int, data)]\r\n",
    "spoken = {n:[x] for x,n in enumerate(data)}\r\n",
    "i = 0\r\n",
    "n = data[-1]\r\n",
    "for x in range(len(data), 2020):\r\n",
    "    if n not in spoken or len(spoken[n]) == 1:\r\n",
    "        n = 0\r\n",
    "    else:\r\n",
    "        n = spoken[n][-1] - spoken[n][-2]\r\n",
    "    \r\n",
    "    if n in spoken:\r\n",
    "        spoken[n] += [x]\r\n",
    "    else:\r\n",
    "        spoken[n] = [x]\r\n",
    "print(n)\r\n"
   ]
  },
  {
   "cell_type": "markdown",
   "metadata": {},
   "source": [
    "## Part 2"
   ]
  },
  {
   "cell_type": "code",
   "execution_count": 3,
   "metadata": {},
   "outputs": [
    {
     "name": "stdout",
     "output_type": "stream",
     "text": [
      "243\n"
     ]
    }
   ],
   "source": [
    "data = [*map(int, data)]\r\n",
    "spoken = {n:[x] for x,n in enumerate(data)}\r\n",
    "n = data[-1]\r\n",
    "for x in range(len(data), 30000000):\r\n",
    "    if n not in spoken or len(spoken[n]) == 1:\r\n",
    "        n = 0\r\n",
    "    else:\r\n",
    "        n = spoken[n][-1] - spoken[n][-2]\r\n",
    "    if n in spoken:\r\n",
    "        spoken[n] += [x]\r\n",
    "    else:\r\n",
    "        spoken[n] = [x]\r\n",
    "print(str(n))"
   ]
  }
 ],
 "metadata": {
  "kernelspec": {
   "display_name": "Python 3",
   "language": "python",
   "name": "python3"
  },
  "language_info": {
   "codemirror_mode": {
    "name": "ipython",
    "version": 3
   },
   "file_extension": ".py",
   "mimetype": "text/x-python",
   "name": "python",
   "nbconvert_exporter": "python",
   "pygments_lexer": "ipython3",
   "version": "3.7.9"
  },
  "orig_nbformat": 2
 },
 "nbformat": 4,
 "nbformat_minor": 2
}