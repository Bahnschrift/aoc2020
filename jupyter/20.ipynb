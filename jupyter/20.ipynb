{
 "cells": [
  {
   "cell_type": "markdown",
   "metadata": {},
   "source": [
    "# Advent of code 2020: Day 20"
   ]
  },
  {
   "cell_type": "markdown",
   "metadata": {},
   "source": [
    "## Import"
   ]
  },
  {
   "cell_type": "code",
   "execution_count": 1,
   "metadata": {},
   "outputs": [],
   "source": [
    "import math as M\r\n",
    "import collections as C\r\n",
    "import bahnslib as B\r\n",
    "import itertools as I\r\n",
    "\r\n",
    "\r\n",
    "day = 20\r\n",
    "data = B.get_aoc_input(day, f\"../inputs/{day}.txt\", format=\"lines\")"
   ]
  },
  {
   "cell_type": "markdown",
   "metadata": {},
   "source": [
    "## Common"
   ]
  },
  {
   "cell_type": "code",
   "execution_count": 2,
   "metadata": {},
   "outputs": [],
   "source": [
    "tileset = B.split(data, \"\")\r\n",
    "tiles = {}\r\n",
    "borders = {}  # Top Bottom Left Right, flipped\r\n",
    "for tile in tileset:\r\n",
    "    n = B.ints(tile[0])[0]\r\n",
    "    tiles[n] = tile[1:]\r\n",
    "    bor = [tile[1], tile[-1]]\r\n",
    "    tile = [\"\".join(x) for x in B.as_cols(tile[1:])]\r\n",
    "    bor += [tile[0], tile[-1]]\r\n",
    "    bor += [x[::-1] for x in bor]\r\n",
    "    borders[n] = bor"
   ]
  },
  {
   "cell_type": "markdown",
   "metadata": {},
   "source": [
    "## Part 1"
   ]
  },
  {
   "cell_type": "markdown",
   "metadata": {},
   "source": [
    "This probably shouldn't work and idk what I was thinking when I wrote it, but it does"
   ]
  },
  {
   "cell_type": "code",
   "execution_count": 3,
   "metadata": {},
   "outputs": [
    {
     "name": "stdout",
     "output_type": "stream",
     "text": [
      "29584525501199\n"
     ]
    }
   ],
   "source": [
    "size = int(M.sqrt(len(tiles)))\r\n",
    "m = []\r\n",
    "counts = C.Counter()\r\n",
    "\r\n",
    "for tile in borders:\r\n",
    "    for side in borders[tile]:\r\n",
    "        for other in [other for other in borders if other != tile]:\r\n",
    "            for otherside in borders[other]:\r\n",
    "                if otherside == side:\r\n",
    "                    counts[tile] += 1\r\n",
    "\r\n",
    "t = 1\r\n",
    "for c in counts:\r\n",
    "    if counts[c] == 4:\r\n",
    "        t *= c\r\n",
    "print(t)"
   ]
  },
  {
   "cell_type": "markdown",
   "metadata": {},
   "source": [
    "## Better Part 2"
   ]
  },
  {
   "cell_type": "code",
   "execution_count": 4,
   "metadata": {},
   "outputs": [],
   "source": [
    "def get_edges(tile):\r\n",
    "    cols = B.as_cols(tile)\r\n",
    "    return [tile[0], tile[-1][::-1], \"\".join(cols[0])[::-1], \"\".join(cols[-1])]  # Top bottom left right\r\n",
    "\r\n",
    "def get_rotations(tile):\r\n",
    "    rots = [tile, rotated(tile)]\r\n",
    "    rots += [rot[::-1] for rot in rots]\r\n",
    "    rots += [[x[::-1] for x in rot] for rot in rots]\r\n",
    "    return rots\r\n",
    "\r\n",
    "def rotated(tile):\r\n",
    "    return [\"\".join(e)[::-1] for e in B.as_cols(tile)]\r\n",
    "\r\n",
    "def simplify_edge(edge):\r\n",
    "    return min(edge, edge[::-1])"
   ]
  },
  {
   "cell_type": "code",
   "execution_count": 5,
   "metadata": {},
   "outputs": [],
   "source": [
    "edge_use_count = C.Counter()\r\n",
    "edge_to_tiles = {}\r\n",
    "rotations = {}\r\n",
    "for number, tile in tiles.items():\r\n",
    "    rotations[number] = get_rotations(tile)\r\n",
    "    for edge in get_edges(tile):\r\n",
    "        edge = simplify_edge(edge)\r\n",
    "        edge_use_count[edge] += 1\r\n",
    "        if edge in edge_to_tiles:\r\n",
    "            edge_to_tiles[edge].add(number)\r\n",
    "        else:\r\n",
    "            edge_to_tiles[edge] = {number}\r\n",
    "    "
   ]
  },
  {
   "cell_type": "code",
   "execution_count": 6,
   "metadata": {},
   "outputs": [],
   "source": [
    "corners = []\r\n",
    "for c in counts:\r\n",
    "    if counts[c] == 4:\r\n",
    "        corners += [c]"
   ]
  },
  {
   "cell_type": "markdown",
   "metadata": {},
   "source": [
    "Top row"
   ]
  },
  {
   "cell_type": "code",
   "execution_count": 7,
   "metadata": {},
   "outputs": [],
   "source": [
    "used = {corners[0]}\r\n",
    "arrangement_tiles = [[tiles[corners[0]]]]\r\n",
    "arrangement_numbers = [[corners[0]]]\r\n",
    "\r\n",
    "for x in range(1, size):\r\n",
    "    last_tile = arrangement_tiles[0][x-1]\r\n",
    "    last_number = arrangement_numbers[0][x-1]\r\n",
    "    right_edge = get_edges(last_tile)[3]\r\n",
    "    next_number = [n for n in edge_to_tiles[simplify_edge(right_edge)] if n not in used][0]\r\n",
    "    \r\n",
    "    for rot in rotations[next_number]:\r\n",
    "        left_edge = get_edges(rot)[2][::-1]\r\n",
    "        if left_edge == right_edge:\r\n",
    "            arrangement_tiles[0] += [rot]\r\n",
    "            arrangement_numbers[0] += [next_number]\r\n",
    "            used.add(next_number)\r\n",
    "            break"
   ]
  },
  {
   "cell_type": "markdown",
   "metadata": {},
   "source": [
    "Rest of the rows"
   ]
  },
  {
   "cell_type": "code",
   "execution_count": 8,
   "metadata": {},
   "outputs": [],
   "source": [
    "for y in range(1, size):\r\n",
    "    row_tiles = []\r\n",
    "    row_numbers = []\r\n",
    "    for x in range(size):\r\n",
    "        above_tile = arrangement_tiles[y-1][x]\r\n",
    "        above_number = arrangement_numbers[y-1][x]\r\n",
    "        bottom_edge = get_edges(above_tile)[1]\r\n",
    "        next_number = [n for n in edge_to_tiles[simplify_edge(bottom_edge)] if n not in used][0]\r\n",
    "        \r\n",
    "        for rot in rotations[next_number]:\r\n",
    "            top_edge = get_edges(rot)[0][::-1]\r\n",
    "            if bottom_edge == top_edge:\r\n",
    "                row_tiles += [rot]\r\n",
    "                row_numbers += [next_number]\r\n",
    "                used.add(next_number)\r\n",
    "                break\r\n",
    "    arrangement_tiles += [row_tiles]\r\n",
    "    arrangement_numbers += [row_numbers]"
   ]
  },
  {
   "cell_type": "markdown",
   "metadata": {},
   "source": [
    "Find the sea monsters"
   ]
  },
  {
   "cell_type": "code",
   "execution_count": 9,
   "metadata": {},
   "outputs": [
    {
     "name": "stdout",
     "output_type": "stream",
     "text": [
      "1665\n"
     ]
    }
   ],
   "source": [
    "arrangement_string_lines = []\r\n",
    "for tile_row in arrangement_tiles:\r\n",
    "    arrangement_string_lines += [\"\".join(tile[y][1:-1] for tile in tile_row) for y in range(1, len(tile_row[0]) - 1)]\r\n",
    "\r\n",
    "arrangement_rotations = get_rotations(arrangement_string_lines)\r\n",
    "monster = \"\"\"\\\r\n",
    "                  #\r\n",
    "#    ##    ##    ###\r\n",
    " #  #  #  #  #  #\"\"\".split('\\n')\r\n",
    "\r\n",
    "def find_monsters(arrangement_string_lines):\r\n",
    "    c = 0\r\n",
    "    for y, row in enumerate(arrangement_string_lines):\r\n",
    "        for x, cell in enumerate(row):\r\n",
    "            found = True\r\n",
    "            for my, mrow in enumerate(monster):\r\n",
    "                for mx, mcell in enumerate(mrow):\r\n",
    "                    if mcell != \"#\":\r\n",
    "                        continue\r\n",
    "                    ny, nx = y + my, x + mx\r\n",
    "                    if not(ny < len(arrangement_string_lines) and nx < len(row)) or arrangement_string_lines[y + my][x + mx] != \"#\":\r\n",
    "                        found = False\r\n",
    "                        break\r\n",
    "                else:\r\n",
    "                    continue\r\n",
    "                break\r\n",
    "            if found:\r\n",
    "                c += 1\r\n",
    "    return c\r\n",
    "\r\n",
    "for rot in arrangement_rotations:\r\n",
    "    if find_monsters(rot):\r\n",
    "        print(\"\".join(rot).count(\"#\") - \"\".join(monster).count(\"#\") * find_monsters(rot))\r\n",
    "        break"
   ]
  },
  {
   "cell_type": "markdown",
   "metadata": {},
   "source": [
    "## Old Part 2 Shennanigans\r\n",
    "_This all deserves to be deleted, but I'll let it live for now_"
   ]
  },
  {
   "cell_type": "code",
   "execution_count": 10,
   "metadata": {},
   "outputs": [],
   "source": [
    "corners = []\r\n",
    "for c in counts:\r\n",
    "    if counts[c] == 4:\r\n",
    "        corners += [c]\r\n",
    "\r\n",
    "links = {}\r\n",
    "for tile in borders:\r\n",
    "    for side in borders[tile]:\r\n",
    "        for other in [other for other in borders if other != tile]:\r\n",
    "            for otherside in borders[other]:\r\n",
    "                if otherside == side:\r\n",
    "                    if tile in links:\r\n",
    "                        links[tile][side] = other\r\n",
    "                    else:\r\n",
    "                        links[tile] = {side: other}\r\n",
    "# print(links)"
   ]
  },
  {
   "cell_type": "code",
   "execution_count": 11,
   "metadata": {},
   "outputs": [],
   "source": [
    "def get_adjacents(links: dict, side: int):\r\n",
    "    a = set()\r\n",
    "    for other in links[side]:\r\n",
    "        a.add(links[side][other])\r\n",
    "    return a\r\n",
    "    "
   ]
  },
  {
   "cell_type": "code",
   "execution_count": 12,
   "metadata": {},
   "outputs": [],
   "source": [
    "arrangement = [[None,] * size for x in range(size)]\r\n",
    "used = set()\r\n",
    "\r\n",
    "dirs = [(1, 0), (0, 1), (-1, 0), (0, -1)]\r\n",
    "\r\n",
    "def valid(x, y):\r\n",
    "    return 0 <= x < size and 0 <= y < size and arrangement[y][x] != None\r\n",
    "\r\n",
    "arrangement[0][0] = corners[0]\r\n",
    "for y in range(size):\r\n",
    "    for x in range(size):\r\n",
    "        if x == y == 0:\r\n",
    "            continue\r\n",
    "        adjacent = set()\r\n",
    "        for di in dirs:\r\n",
    "            nx, ny = x + di[0], y + di[1]\r\n",
    "            if valid(nx, ny):\r\n",
    "                adjacent.add(arrangement[ny][nx])\r\n",
    "        \r\n",
    "        for possible in [possible for possible in links if possible not in used]:\r\n",
    "            if all(k in get_adjacents(links, possible) for k in adjacent):\r\n",
    "                pass"
   ]
  },
  {
   "cell_type": "markdown",
   "metadata": {},
   "source": [
    "Literally started generating images and a graph layout to use with yEd... gave up and went back to coding it. Might make a visualization later"
   ]
  },
  {
   "cell_type": "code",
   "execution_count": 13,
   "metadata": {},
   "outputs": [],
   "source": [
    "do_stupid_things = False"
   ]
  },
  {
   "cell_type": "code",
   "execution_count": 14,
   "metadata": {},
   "outputs": [],
   "source": [
    "if do_stupid_things:\r\n",
    "    import pyyed\r\n",
    "\r\n",
    "    yed = pyyed.Graph()\r\n",
    "\r\n",
    "    nodes = set()\r\n",
    "    for number in tiles:\r\n",
    "        number = str(number)\r\n",
    "        if number not in nodes:\r\n",
    "            nodes.add(number)\r\n",
    "            yed.add_node(number)\r\n",
    "        for adjacent in get_adjacents(links, int(number)):\r\n",
    "            adjacent = str(adjacent)\r\n",
    "            if adjacent not in nodes:\r\n",
    "                nodes.add(adjacent)\r\n",
    "                yed.add_node(adjacent)\r\n",
    "            yed.add_edge(number, adjacent)\r\n",
    "            \r\n",
    "    yed.write_graph(\"full.graphml\", pretty_print=True)\r\n"
   ]
  },
  {
   "cell_type": "code",
   "execution_count": 15,
   "metadata": {},
   "outputs": [],
   "source": [
    "if do_stupid_things:\r\n",
    "    from PIL import Image\r\n",
    "\r\n",
    "    for number in tiles:\r\n",
    "        fname = f\"20_tiles/{number}.png\"\r\n",
    "        out = Image.new(\"RGB\", (10, 10))\r\n",
    "        r = []\r\n",
    "        for y, row in enumerate(tiles[number]):\r\n",
    "            # print(len(row))\r\n",
    "            for x, c in enumerate(row):\r\n",
    "                if c == \"#\":\r\n",
    "                    r.append((0, 0, 0))\r\n",
    "                else:\r\n",
    "                    r.append((255, 255, 255))\r\n",
    "        # print(len(r))\r\n",
    "        out.putdata(r)\r\n",
    "        out.save(fname)"
   ]
  }
 ],
 "metadata": {
  "kernelspec": {
   "display_name": "Python 3",
   "language": "python",
   "name": "python3"
  },
  "language_info": {
   "codemirror_mode": {
    "name": "ipython",
    "version": 3
   },
   "file_extension": ".py",
   "mimetype": "text/x-python",
   "name": "python",
   "nbconvert_exporter": "python",
   "pygments_lexer": "ipython3",
   "version": "3.7.9"
  },
  "orig_nbformat": 2
 },
 "nbformat": 4,
 "nbformat_minor": 2
}