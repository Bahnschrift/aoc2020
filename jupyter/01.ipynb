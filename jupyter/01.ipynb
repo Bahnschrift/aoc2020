{
 "cells": [
  {
   "cell_type": "markdown",
   "metadata": {},
   "source": [
    "# Advent of code 2020: Day 1"
   ]
  },
  {
   "cell_type": "markdown",
   "metadata": {},
   "source": [
    "## Import"
   ]
  },
  {
   "cell_type": "code",
   "execution_count": 3,
   "metadata": {},
   "outputs": [],
   "source": [
    "import math as M\n",
    "import collections as C\n",
    "import bahnslib as B\n",
    "from itertools import combinations\n",
    "import requests\n",
    "\n",
    "day = 1\n",
    "\n",
    "if open(f\"../inputs/{str(day).zfill(2)}.txt\", \"r\").read() == \"\":\n",
    "    url = f\"https://adventofcode.com/2020/day/{day}/input\"\n",
    "    id = open(\"../downloader/session_id.txt\", \"r\").readline().strip()\n",
    "    cookies = {\n",
    "        \"session\": id\n",
    "    }\n",
    "    r = requests.post(url, cookies=cookies, allow_redirects=True)\n",
    "    open(f\"../inputs/{str(day).zfill(2)}.txt\", \"w\").write(r.text)\n",
    "\n",
    "file = open(f\"../inputs/{str(day).zfill(2)}.txt\", \"r\")\n",
    "\n",
    "data = [*map(str.rstrip, file.readlines())]\n",
    "data = [*map(int, data)]"
   ]
  },
  {
   "cell_type": "markdown",
   "metadata": {},
   "source": [
    "## Part 1"
   ]
  },
  {
   "cell_type": "code",
   "execution_count": 4,
   "metadata": {},
   "outputs": [
    {
     "name": "stdout",
     "output_type": "stream",
     "text": [
      "1016964\n"
     ]
    }
   ],
   "source": [
    "c = combinations(data, 2)\r\n",
    "for x in c:\r\n",
    "    if sum(x) == 2020:\r\n",
    "        print(x[0] * x[1])"
   ]
  },
  {
   "cell_type": "markdown",
   "metadata": {},
   "source": [
    "## Part 2"
   ]
  },
  {
   "cell_type": "code",
   "execution_count": 5,
   "metadata": {},
   "outputs": [
    {
     "name": "stdout",
     "output_type": "stream",
     "text": [
      "182588480\n"
     ]
    }
   ],
   "source": [
    "c = combinations(data, 3)\n",
    "for x in c:\n",
    "    if sum(x) == 2020:\n",
    "        print(x[0] * x[1] * x[2])"
   ]
  }
 ],
 "metadata": {
  "kernelspec": {
   "display_name": "Python 3",
   "name": "python3"
  },
  "language_info": {
   "codemirror_mode": {
    "name": "ipython",
    "version": 3
   },
   "file_extension": ".py",
   "mimetype": "text/x-python",
   "name": "python",
   "nbconvert_exporter": "python",
   "pygments_lexer": "ipython3",
   "version": "3.7.9"
  },
  "orig_nbformat": 2
 },
 "nbformat": 4,
 "nbformat_minor": 2
}