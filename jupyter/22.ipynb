{
 "cells": [
  {
   "cell_type": "markdown",
   "metadata": {},
   "source": [
    "# Advent of code 2020: Day 22"
   ]
  },
  {
   "cell_type": "markdown",
   "metadata": {},
   "source": [
    "## Import"
   ]
  },
  {
   "cell_type": "code",
   "execution_count": 1,
   "metadata": {},
   "outputs": [],
   "source": [
    "import math as M\r\n",
    "import collections as C\r\n",
    "import bahnslib as B\r\n",
    "import itertools as I\r\n",
    "\r\n",
    "\r\n",
    "day = 22\r\n",
    "data = B.get_aoc_input(day, f\"../inputs/{day}.txt\", format=\"lines\")"
   ]
  },
  {
   "cell_type": "markdown",
   "metadata": {},
   "source": [
    "## Part 1"
   ]
  },
  {
   "cell_type": "code",
   "execution_count": 2,
   "metadata": {},
   "outputs": [
    {
     "name": "stdout",
     "output_type": "stream",
     "text": [
      "35299\n"
     ]
    }
   ],
   "source": [
    "p1, p2 = [[*map(int, x[1:])] for x in B.split(data, \"\")]\r\n",
    "\r\n",
    "r = 0\r\n",
    "while p1 and p2:\r\n",
    "    r += 1\r\n",
    "    c1 = p1.pop(0)\r\n",
    "    c2 = p2.pop(0)\r\n",
    "    if c1 > c2:\r\n",
    "        p1 += [c1, c2]\r\n",
    "    else:\r\n",
    "        p2 += [c2, c1]\r\n",
    "        \r\n",
    "print(sum(x * card for x, card in enumerate(max(p1, p2, key=len)[::-1], 1)))\r\n",
    "\r\n",
    "    "
   ]
  },
  {
   "cell_type": "markdown",
   "metadata": {},
   "source": [
    "## Part 2"
   ]
  },
  {
   "cell_type": "code",
   "execution_count": 3,
   "metadata": {},
   "outputs": [
    {
     "name": "stdout",
     "output_type": "stream",
     "text": [
      "33266\n"
     ]
    }
   ],
   "source": [
    "p = B.split(data, \"\")\r\n",
    "p1 = [*map(int, p[0][1:])]\r\n",
    "p2 = [*map(int, p[1][1:])]\r\n",
    "\r\n",
    "def game(p1, p2):\r\n",
    "    seen = set()\r\n",
    "    while p1 and p2:\r\n",
    "        if (tuple(p1), tuple(p2)) in seen:\r\n",
    "            return p1, p2\r\n",
    "        seen.add((tuple(p1), tuple(p2)))\r\n",
    "\r\n",
    "        c1, c2 = p1.pop(0), p2.pop(0)\r\n",
    "        if c1 <= len(p1) and c2 <= len(p2):\r\n",
    "            p1_winner = len(game(p1[:c1], p2[:c2])[0]) > 0\r\n",
    "        else:\r\n",
    "            p1_winner = c1 > c2\r\n",
    "        if p1_winner:\r\n",
    "            p1 += [c1, c2]\r\n",
    "        else:\r\n",
    "            p2 += [c2, c1]\r\n",
    "    return p1, p2\r\n",
    "\r\n",
    "print(sum(x * card for x, card in enumerate(max(*game(p1, p2), key=len)[::-1], 1)))\r\n"
   ]
  }
 ],
 "metadata": {
  "kernelspec": {
   "display_name": "Python 3",
   "language": "python",
   "name": "python3"
  },
  "language_info": {
   "codemirror_mode": {
    "name": "ipython",
    "version": 3
   },
   "file_extension": ".py",
   "mimetype": "text/x-python",
   "name": "python",
   "nbconvert_exporter": "python",
   "pygments_lexer": "ipython3",
   "version": "3.7.9"
  },
  "orig_nbformat": 2
 },
 "nbformat": 4,
 "nbformat_minor": 2
}