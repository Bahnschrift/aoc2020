{
 "cells": [
  {
   "cell_type": "markdown",
   "metadata": {},
   "source": [
    "# Advent of code 2020: Day 7"
   ]
  },
  {
   "cell_type": "markdown",
   "metadata": {},
   "source": [
    "## Import"
   ]
  },
  {
   "cell_type": "code",
   "execution_count": 1,
   "metadata": {},
   "outputs": [],
   "source": [
    "import math as M\r\n",
    "import collections as C\r\n",
    "import bahnslib as B\r\n",
    "from itertools import combinations\r\n",
    "import requests\r\n",
    "\r\n",
    "day = 7\r\n",
    "\r\n",
    "if open(f\"../inputs/{str(day).zfill(2)}.txt\", \"r+\").read() == \"\":\r\n",
    "    url = f\"https://adventofcode.com/2020/day/{day}/input\"\r\n",
    "    id = open(\"../downloader/session_id.txt\", \"r\").readline().strip()\r\n",
    "    cookies = {\r\n",
    "        \"session\": id\r\n",
    "    }\r\n",
    "    r = requests.post(url, cookies=cookies, allow_redirects=True)\r\n",
    "    open(f\"../inputs/{str(day).zfill(2)}.txt\", \"w\").write(r.text)\r\n",
    "\r\n",
    "file = open(f\"../inputs/{str(day).zfill(2)}.txt\", \"r\")\r\n",
    "data = [*map(str.rstrip, file.readlines())]\r\n",
    "file.close()"
   ]
  },
  {
   "cell_type": "markdown",
   "metadata": {},
   "source": [
    "Create a dictionary of bags and their contents"
   ]
  },
  {
   "cell_type": "code",
   "execution_count": 2,
   "metadata": {},
   "outputs": [],
   "source": [
    "contents_of = {}\r\n",
    "containing = {}\r\n",
    "all_colours = set()\r\n",
    "sub_colours = set()\r\n",
    "grandparents = set()\r\n",
    "grandchildren = set()\r\n",
    "\r\n",
    "for line in data:\r\n",
    "    parent, children = line[:-1].split(\" bags contain \")\r\n",
    "    all_colours.add(parent)\r\n",
    "    children = children.replace(\"bags\", \"\").replace(\"bag\", \"\").split(\", \")\r\n",
    "    contents_of[parent] = {}\r\n",
    "    for child in children:\r\n",
    "        child = child.split()\r\n",
    "        colour = \" \".join(child[1:])\r\n",
    "        if child != [\"no\", \"other\"]:\r\n",
    "            sub_colours.add(colour)\r\n",
    "            count = int(child[0])\r\n",
    "            contents_of[parent][colour] = count \r\n",
    "            if colour in containing:\r\n",
    "                containing[colour].add(parent)\r\n",
    "            else:\r\n",
    "                containing[colour] = {parent}\r\n",
    "        else:\r\n",
    "            grandchildren.add(parent)\r\n",
    "\r\n",
    "grandparents = all_colours - sub_colours\r\n",
    "for grandparent in grandparents:\r\n",
    "    containing[grandparent] = []"
   ]
  },
  {
   "cell_type": "markdown",
   "metadata": {},
   "source": [
    "## Part 1"
   ]
  },
  {
   "cell_type": "code",
   "execution_count": 3,
   "metadata": {},
   "outputs": [
    {
     "name": "stdout",
     "output_type": "stream",
     "text": [
      "259\n"
     ]
    }
   ],
   "source": [
    "parents = set()\r\n",
    "def get_parents(colour):\r\n",
    "    for parent in containing[colour]:\r\n",
    "        parents.add(parent)\r\n",
    "        get_parents(parent)\r\n",
    "get_parents(\"shiny gold\")\r\n",
    "\r\n",
    "print(len(parents))\r\n"
   ]
  },
  {
   "cell_type": "markdown",
   "metadata": {},
   "source": [
    "## Part 2"
   ]
  },
  {
   "cell_type": "code",
   "execution_count": 4,
   "metadata": {},
   "outputs": [
    {
     "name": "stdout",
     "output_type": "stream",
     "text": [
      "45018\n"
     ]
    }
   ],
   "source": [
    "def get_children(colour, weight):\r\n",
    "    t = 1\r\n",
    "    for bag in contents_of[colour]:\r\n",
    "        t += get_children(bag, contents_of[colour][bag])\r\n",
    "    return t * weight\r\n",
    "\r\n",
    "print(get_children(\"shiny gold\", 1) - 1)\r\n"
   ]
  },
  {
   "cell_type": "markdown",
   "metadata": {},
   "source": [
    "## And now for some unnecessary bits and pieces\r\n",
    "\r\n",
    "### Bad graphing"
   ]
  },
  {
   "cell_type": "code",
   "execution_count": 46,
   "metadata": {},
   "outputs": [],
   "source": [
    "from graphviz import Digraph, Graph\r\n",
    "import pyyed\r\n",
    "\r\n",
    "graphed_children = set()\r\n",
    "graphed_parents = set()\r\n",
    "\r\n",
    "\r\n",
    "node_height = \"0\"\r\n",
    "node_width = \"0\"\r\n",
    "node_colour = \"#000000\"\r\n",
    "label_size = \"0\"\r\n",
    "yed = pyyed.Graph()\r\n",
    "yed.add_node(\"shiny gold\", shape_fill=\"#F9CB68\", height=node_height, width=node_width)\r\n",
    "\r\n",
    "\r\n",
    "def graph_children(colour): \r\n",
    "    if not(colour in yed.nodes):\r\n",
    "            yed.add_node(colour, shape_fill=node_colour, height=node_height, width=node_width, font_size=label_size)\r\n",
    "    for bag in contents_of[colour]:\r\n",
    "        if not(bag in yed.nodes):\r\n",
    "            yed.add_node(bag, shape_fill=node_colour, height=node_height, width=node_width, font_size=label_size)\r\n",
    "        yed.add_edge(colour, bag, arrowhead=\"none\")\r\n",
    "        \r\n",
    "        if bag not in graphed_children:\r\n",
    "            graph_children(bag)\r\n",
    "    graphed_children.add(colour)\r\n",
    "\r\n",
    "def graph_parents(colour):\r\n",
    "    if not(colour in yed.nodes):\r\n",
    "        yed.add_node(colour, shape_fill=node_colour, height=node_height, width=node_width, font_size=label_size)\r\n",
    "        \r\n",
    "    for parent in containing[colour]:\r\n",
    "        if not(parent in yed.nodes):\r\n",
    "            yed.add_node(parent, shape_fill=node_colour, height=node_height, width=node_width, font_size=label_size)\r\n",
    "        yed.add_edge(parent, colour, arrowhead=\"none\")\r\n",
    "        \r\n",
    "        if parent not in graphed_parents:\r\n",
    "            graph_parents(parent)\r\n",
    "    graphed_parents.add(colour)\r\n",
    "\r\n",
    "for grandparent in grandparents:\r\n",
    "    graph_children(grandparent)\r\n",
    "    \r\n",
    "# graph_children(\"shiny gold\")\r\n",
    "# graph_parents(\"shiny gold\")\r\n",
    "\r\n",
    "yed.write_graph(\"full.graphml\", pretty_print=True)"
   ]
  },
  {
   "cell_type": "markdown",
   "metadata": {},
   "source": [
    "### An unnecessarily complex implementation"
   ]
  },
  {
   "cell_type": "code",
   "execution_count": 6,
   "metadata": {},
   "outputs": [],
   "source": [
    "class Colour():\r\n",
    "    def __init__(self, name):\r\n",
    "        self.name = name\r\n",
    "        self.parents = set()\r\n",
    "        self.children = set()\r\n",
    "    \r\n",
    "    def add_child(self, child):\r\n",
    "        self.children.add(child)\r\n",
    "        \r\n",
    "    def add_parent(self, parent):\r\n",
    "        self.parents.add(parent)"
   ]
  }
 ],
 "metadata": {
  "kernelspec": {
   "display_name": "Python 3",
   "name": "python3"
  },
  "language_info": {
   "codemirror_mode": {
    "name": "ipython",
    "version": 3
   },
   "file_extension": ".py",
   "mimetype": "text/x-python",
   "name": "python",
   "nbconvert_exporter": "python",
   "pygments_lexer": "ipython3",
   "version": "3.7.9"
  },
  "orig_nbformat": 2
 },
 "nbformat": 4,
 "nbformat_minor": 2
}