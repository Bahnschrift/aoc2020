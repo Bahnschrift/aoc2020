{
 "cells": [
  {
   "cell_type": "markdown",
   "metadata": {},
   "source": [
    "# Advent of code 2020: Day 4"
   ]
  },
  {
   "cell_type": "markdown",
   "metadata": {},
   "source": [
    "## Import"
   ]
  },
  {
   "cell_type": "code",
   "execution_count": 1,
   "metadata": {},
   "outputs": [],
   "source": [
    "import math as M\r\n",
    "import collections as C\r\n",
    "import bahnslib as B\r\n",
    "import itertools as I\r\n",
    "\r\n",
    "\r\n",
    "day = 4\r\n",
    "data = B.get_aoc_input(day, f\"../inputs/{str(day).zfill(2)}.txt\", format=\"lines\")"
   ]
  },
  {
   "cell_type": "markdown",
   "metadata": {},
   "source": [
    "## Part 1"
   ]
  },
  {
   "cell_type": "code",
   "execution_count": 2,
   "metadata": {
    "tags": []
   },
   "outputs": [
    {
     "name": "stdout",
     "output_type": "stream",
     "text": [
      "170\n"
     ]
    }
   ],
   "source": [
    "print(sum(map(lambda entry: len(entry) == 8 or (len(entry) == 7 and \"cid\" not in entry), map(B.str_dict, B.split_join(data, \"\", \" \")))))"
   ]
  },
  {
   "cell_type": "markdown",
   "metadata": {},
   "source": [
    "## Part 2"
   ]
  },
  {
   "cell_type": "code",
   "execution_count": 3,
   "metadata": {},
   "outputs": [
    {
     "name": "stdout",
     "output_type": "stream",
     "text": [
      "103\n"
     ]
    }
   ],
   "source": [
    "valid = lambda entry: (\r\n",
    "    len(entry) == 8 or (len(entry) == 7 and \"cid\" not in entry)) and (\r\n",
    "    1920 <= int(entry[\"byr\"]) <= 2002) and (\r\n",
    "    2010 <= int(entry[\"iyr\"]) <= 2020) and (\r\n",
    "    2020 <= int(entry[\"eyr\"]) <= 2030) and (\r\n",
    "    entry[\"hgt\"][-2:] == \"cm\" and 150 <= int(entry[\"hgt\"][:-2]) <= 193 or entry[\"hgt\"][-2:] == \"in\" and 59 <= int(entry[\"hgt\"][:-2]) <= 76) and (\r\n",
    "    entry[\"hcl\"][0] == \"#\" and len(entry[\"hcl\"][1:]) == 6 and all([x in \"1234567890abcdefABCDEF\" for x in entry[\"hcl\"][1:]])) and (\r\n",
    "    entry[\"ecl\"] in (\"amb\", \"blu\", \"brn\", \"gry\", \"grn\", \"hzl\", \"oth\")) and (\r\n",
    "    len(entry[\"pid\"]) == len([x for x in entry[\"pid\"] if x.isdigit()]) == 9)\r\n",
    "\r\n",
    "print(sum(map(valid, map(B.str_dict, B.split_join(data, \"\", \" \")))))"
   ]
  }
 ],
 "metadata": {
  "kernelspec": {
   "display_name": "Python 3",
   "name": "python3"
  },
  "language_info": {
   "codemirror_mode": {
    "name": "ipython",
    "version": 3
   },
   "file_extension": ".py",
   "mimetype": "text/x-python",
   "name": "python",
   "nbconvert_exporter": "python",
   "pygments_lexer": "ipython3",
   "version": "3.7.9-final"
  },
  "orig_nbformat": 2
 },
 "nbformat": 4,
 "nbformat_minor": 2
}