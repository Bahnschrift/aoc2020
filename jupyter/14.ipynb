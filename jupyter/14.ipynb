{
 "cells": [
  {
   "cell_type": "markdown",
   "metadata": {},
   "source": [
    "# Advent of code 2020: Day 14\r\n",
    "\r\n",
    "Import Data from web:"
   ]
  },
  {
   "cell_type": "code",
   "execution_count": 11,
   "metadata": {},
   "outputs": [],
   "source": [
    "import math as M\r\n",
    "import collections as C\r\n",
    "import bahnslib as B\r\n",
    "from itertools import combinations, permutations\r\n",
    "import requests\r\n",
    "\r\n",
    "day = 14\r\n",
    "\r\n",
    "if open(f\"../inputs/{str(day).zfill(2)}.txt\", \"r\").read() == \"\":\r\n",
    "    url = f\"https://adventofcode.com/2020/day/{day}/input\"\r\n",
    "    id = open(\"../downloader/session_id.txt\", \"r\").readline().strip()\r\n",
    "    cookies = {\r\n",
    "        \"session\": id\r\n",
    "    }\r\n",
    "    r = requests.post(url, cookies=cookies, allow_redirects=True)\r\n",
    "    open(f\"../inputs/{str(day).zfill(2)}.txt\", \"w\").write(r.text)\r\n",
    "\r\n",
    "file = open(f\"../inputs/{str(day).zfill(2)}.txt\", \"r\")\r\n",
    "data = [*map(str.rstrip, file.readlines())] \r\n",
    "file.close()"
   ]
  },
  {
   "cell_type": "markdown",
   "metadata": {},
   "source": [
    "Paste test data here"
   ]
  },
  {
   "cell_type": "code",
   "execution_count": 17,
   "metadata": {},
   "outputs": [],
   "source": [
    "data = \"\"\"mask = 000000000000000000000000000000X1001X\r\n",
    "mem[42] = 100\r\n",
    "mask = 00000000000000000000000000000000X0XX\r\n",
    "mem[26] = 1\"\"\".split(\"\\n\")"
   ]
  },
  {
   "cell_type": "code",
   "execution_count": 3,
   "metadata": {},
   "outputs": [],
   "source": []
  },
  {
   "cell_type": "markdown",
   "metadata": {},
   "source": [
    "## Part 1"
   ]
  },
  {
   "cell_type": "code",
   "execution_count": 13,
   "metadata": {},
   "outputs": [
    {
     "name": "stdout",
     "output_type": "stream",
     "text": [
      "8471403462063\n"
     ]
    }
   ],
   "source": [
    "def apply_mask(new_val, mask):\r\n",
    "    new_val = bin(new_val)[2:].zfill(len(mask))\r\n",
    "    new = \"\"\r\n",
    "    for x, val in enumerate(mask):\r\n",
    "        if val == \"X\":\r\n",
    "            new += new_val[x]\r\n",
    "        else:\r\n",
    "            new += val\r\n",
    "    return int(new, 2)\r\n",
    "\r\n",
    "mask = \"\"\r\n",
    "mem = {}\r\n",
    "t = 0\r\n",
    "for line in data:\r\n",
    "    if \"mask = \" in line:\r\n",
    "        mask = line.split(' = ')[1]\r\n",
    "    else:\r\n",
    "        mem_ind, mem_val = B.ints(line)\r\n",
    "        mem[mem_ind] = apply_mask(mem_val, mask)\r\n",
    "for bit in mem:\r\n",
    "    t += mem[bit]\r\n",
    "\r\n",
    "\r\n",
    "print(t)"
   ]
  },
  {
   "cell_type": "markdown",
   "metadata": {},
   "source": [
    "## Part 2"
   ]
  },
  {
   "cell_type": "code",
   "execution_count": 25,
   "metadata": {},
   "outputs": [
    {
     "name": "stdout",
     "output_type": "stream",
     "text": [
      "{42: 50, 19327352874: 100}\n",
      "{42: 50, 19327352874: 100, 20401094698: 100}\n",
      "{42: 50, 19327352874: 100, 20401094698: 100, 53687091242: 100}\n",
      "{42: 50, 19327352874: 100, 20401094698: 100, 53687091242: 100, 54760833066: 100}\n",
      "{42: 50, 19327352874: 100, 20401094698: 100, 53687091242: 100, 54760833066: 100, 26: 1}\n",
      "{42: 50, 19327352874: 100, 20401094698: 100, 53687091242: 100, 54760833066: 100, 26: 1, 4294967322: 1}\n",
      "{42: 50, 19327352874: 100, 20401094698: 100, 53687091242: 100, 54760833066: 100, 26: 1, 4294967322: 1, 17179869210: 1}\n",
      "{42: 50, 19327352874: 100, 20401094698: 100, 53687091242: 100, 54760833066: 100, 26: 1, 4294967322: 1, 17179869210: 1, 21474836506: 1}\n",
      "{42: 50, 19327352874: 100, 20401094698: 100, 53687091242: 100, 54760833066: 100, 26: 1, 4294967322: 1, 17179869210: 1, 21474836506: 1, 34359738394: 1}\n",
      "{42: 50, 19327352874: 100, 20401094698: 100, 53687091242: 100, 54760833066: 100, 26: 1, 4294967322: 1, 17179869210: 1, 21474836506: 1, 34359738394: 1, 38654705690: 1}\n",
      "{42: 50, 19327352874: 100, 20401094698: 100, 53687091242: 100, 54760833066: 100, 26: 1, 4294967322: 1, 17179869210: 1, 21474836506: 1, 34359738394: 1, 38654705690: 1, 51539607578: 1}\n",
      "{42: 50, 19327352874: 100, 20401094698: 100, 53687091242: 100, 54760833066: 100, 26: 1, 4294967322: 1, 17179869210: 1, 21474836506: 1, 34359738394: 1, 38654705690: 1, 51539607578: 1, 55834574874: 1}\n",
      "458\n"
     ]
    }
   ],
   "source": [
    "mask = \"X\" * 36\r\n",
    "flot = 0\r\n",
    "mem = {}\r\n",
    "t = 0\r\n",
    "for line in data:\r\n",
    "    if \"mask = \" in line:\r\n",
    "        mask = line.split(' = ')[1]\r\n",
    "        flot = mask.count(\"X\")\r\n",
    "    else:\r\n",
    "        mem_ind, mem_val = B.ints(line)\r\n",
    "        mem[mem_ind] = apply_mask(mem_val, mask)\r\n",
    "        # for x in range(1 << mask.count(\"X\")):\r\n",
    "        #     i = mem_ind\r\n",
    "        #     c = 0\r\n",
    "        #     for n, char in enumerate(mask):\r\n",
    "        #         if char == \"X\":\r\n",
    "        #             i = (i & ~(1 << n)) | (((x >> i) & 1) << n)\r\n",
    "        #         elif char == \"1\":\r\n",
    "        #             i |= (1 << n)\r\n",
    "        #     mem[i] = mem_val\r\n",
    "        for j in range(1 << flot):\r\n",
    "            addr = mem_ind\r\n",
    "            xc = 0\r\n",
    "            for i, c in enumerate(mask):\r\n",
    "                if c == 'X':\r\n",
    "                    addr = (addr & ~(1 << i)) | (((j >> xc) & 1) << i)  # Set the i-th bit to zero, then OR it with the xc-th bit of j\r\n",
    "                    xc += 1\r\n",
    "                elif c == '1':\r\n",
    "                    addr |= (1 << i)\r\n",
    "            mem[addr] = mem_val\r\n",
    "            print(mem)\r\n",
    "        \r\n",
    "print(sum(mem.values()))"
   ]
  }
 ],
 "metadata": {
  "kernelspec": {
   "display_name": "Python 3",
   "language": "python",
   "name": "python3"
  },
  "language_info": {
   "codemirror_mode": {
    "name": "ipython",
    "version": 3
   },
   "file_extension": ".py",
   "mimetype": "text/x-python",
   "name": "python",
   "nbconvert_exporter": "python",
   "pygments_lexer": "ipython3",
   "version": "3.7.9"
  },
  "orig_nbformat": 2
 },
 "nbformat": 4,
 "nbformat_minor": 2
}