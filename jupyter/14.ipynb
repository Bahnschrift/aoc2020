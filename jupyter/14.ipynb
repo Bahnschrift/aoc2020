{
 "cells": [
  {
   "cell_type": "markdown",
   "metadata": {},
   "source": [
    "# Advent of code 2020: Day 14"
   ]
  },
  {
   "cell_type": "markdown",
   "metadata": {},
   "source": [
    "## Import"
   ]
  },
  {
   "cell_type": "code",
   "execution_count": 1,
   "metadata": {},
   "outputs": [],
   "source": [
    "import math as M\r\n",
    "import collections as C\r\n",
    "import bahnslib as B\r\n",
    "import itertools as I\r\n",
    "\r\n",
    "\r\n",
    "day = 14\r\n",
    "data = B.get_aoc_input(day, f\"../inputs/{day}.txt\", format=\"lines\")"
   ]
  },
  {
   "cell_type": "markdown",
   "metadata": {},
   "source": [
    "## Part 1"
   ]
  },
  {
   "cell_type": "code",
   "execution_count": 2,
   "metadata": {},
   "outputs": [
    {
     "name": "stdout",
     "output_type": "stream",
     "text": [
      "8471403462063\n"
     ]
    }
   ],
   "source": [
    "def apply_mask(new_val, mask):\r\n",
    "    new_val = bin(new_val)[2:].zfill(len(mask))\r\n",
    "    new = \"\"\r\n",
    "    for x, val in enumerate(mask):\r\n",
    "        if val == \"X\":\r\n",
    "            new += new_val[x]\r\n",
    "        else:\r\n",
    "            new += val\r\n",
    "    return int(new, 2)\r\n",
    "\r\n",
    "mask = \"\"\r\n",
    "mem = {}\r\n",
    "t = 0\r\n",
    "for line in data:\r\n",
    "    if \"mask = \" in line:\r\n",
    "        mask = line.split(' = ')[1]\r\n",
    "    else:\r\n",
    "        mem_ind, mem_val = B.ints(line)\r\n",
    "        mem[mem_ind] = apply_mask(mem_val, mask)\r\n",
    "for bit in mem:\r\n",
    "    t += mem[bit]\r\n",
    "\r\n",
    "\r\n",
    "print(t)"
   ]
  },
  {
   "cell_type": "markdown",
   "metadata": {},
   "source": [
    "## Part 2\r\n",
    "_TODO: Replace this with the other working version I made_"
   ]
  },
  {
   "cell_type": "code",
   "execution_count": 3,
   "metadata": {},
   "outputs": [
    {
     "name": "stdout",
     "output_type": "stream",
     "text": [
      "11146622418523\n"
     ]
    }
   ],
   "source": [
    "mask = \"X\" * 36\r\n",
    "flot = 0\r\n",
    "mem = {}\r\n",
    "t = 0\r\n",
    "for line in data:\r\n",
    "    if \"mask = \" in line:\r\n",
    "        mask = line.split(' = ')[1]\r\n",
    "        flot = mask.count(\"X\")\r\n",
    "    else:\r\n",
    "        mem_ind, mem_val = B.ints(line)\r\n",
    "        mem[mem_ind] = apply_mask(mem_val, mask)\r\n",
    "        # for x in range(1 << mask.count(\"X\")):\r\n",
    "        #     i = mem_ind\r\n",
    "        #     c = 0\r\n",
    "        #     for n, char in enumerate(mask):\r\n",
    "        #         if char == \"X\":\r\n",
    "        #             i = (i & ~(1 << n)) | (((x >> i) & 1) << n)\r\n",
    "        #         elif char == \"1\":\r\n",
    "        #             i |= (1 << n)\r\n",
    "        #     mem[i] = mem_val\r\n",
    "        for j in range(1 << flot):\r\n",
    "            addr = mem_ind\r\n",
    "            xc = 0\r\n",
    "            for i, c in enumerate(mask):\r\n",
    "                if c == 'X':\r\n",
    "                    addr = (addr & ~(1 << i)) | (((j >> xc) & 1) << i)  # Set the i-th bit to zero, then OR it with the xc-th bit of j\r\n",
    "                    xc += 1\r\n",
    "                elif c == '1':\r\n",
    "                    addr |= (1 << i)\r\n",
    "            mem[addr] = mem_val\r\n",
    "            # print(mem)\r\n",
    "        \r\n",
    "print(sum(mem.values()))"
   ]
  }
 ],
 "metadata": {
  "kernelspec": {
   "display_name": "Python 3",
   "language": "python",
   "name": "python3"
  },
  "language_info": {
   "codemirror_mode": {
    "name": "ipython",
    "version": 3
   },
   "file_extension": ".py",
   "mimetype": "text/x-python",
   "name": "python",
   "nbconvert_exporter": "python",
   "pygments_lexer": "ipython3",
   "version": "3.7.9"
  },
  "orig_nbformat": 2
 },
 "nbformat": 4,
 "nbformat_minor": 2
}