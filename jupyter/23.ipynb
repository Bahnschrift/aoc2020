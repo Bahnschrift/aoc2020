{
 "cells": [
  {
   "cell_type": "markdown",
   "metadata": {},
   "source": [
    "# Advent of code 2020: Day 23"
   ]
  },
  {
   "cell_type": "markdown",
   "metadata": {},
   "source": [
    "## Import"
   ]
  },
  {
   "cell_type": "code",
   "execution_count": 1,
   "metadata": {},
   "outputs": [],
   "source": [
    "import math as M\r\n",
    "import collections as C\r\n",
    "import bahnslib as B\r\n",
    "import itertools as I\r\n",
    "import re\r\n",
    "\r\n",
    "\r\n",
    "day = 23\r\n",
    "data = B.get_aoc_input(day, f\"../inputs/{day}.txt\", format=\"lines\")"
   ]
  },
  {
   "cell_type": "markdown",
   "metadata": {},
   "source": [
    "## Part 1\r\n",
    "_I'll let this abomination live for now..._"
   ]
  },
  {
   "cell_type": "code",
   "execution_count": 2,
   "metadata": {},
   "outputs": [
    {
     "name": "stdout",
     "output_type": "stream",
     "text": [
      "49725386\n"
     ]
    }
   ],
   "source": [
    "cups = [*map(int,data[0])]\r\n",
    "min_label = min(cups)\r\n",
    "max_label = max(cups)\r\n",
    "last_cup_index = -1\r\n",
    "for x in range(100):\r\n",
    "    if last_cup_index + 1 >= len(cups):\r\n",
    "        last_cup_index = -1\r\n",
    "    current = cups[last_cup_index + 1]\r\n",
    "    chosen = []\r\n",
    "    if last_cup_index + 2 >= len(cups):\r\n",
    "        last_cup_index = -2\r\n",
    "    chosen += [cups.pop(last_cup_index + 2)]\r\n",
    "    if last_cup_index + 2 >= len(cups):\r\n",
    "        last_cup_index = -2\r\n",
    "    chosen += [cups.pop(last_cup_index + 2)]\r\n",
    "    if last_cup_index + 2 >= len(cups):\r\n",
    "        last_cup_index = -2\r\n",
    "    chosen += [cups.pop(last_cup_index + 2)]\r\n",
    "    destination = None\r\n",
    "\r\n",
    "    compare = current - 1\r\n",
    "    while destination is None:\r\n",
    "        if compare in cups:\r\n",
    "            destination = compare\r\n",
    "        else:\r\n",
    "            compare -= 1\r\n",
    "            if compare < min_label:\r\n",
    "                compare = max_label\r\n",
    "    \r\n",
    "    destination_index = cups.index(destination)\r\n",
    "    before = cups[:destination_index + 1]\r\n",
    "    after = cups[destination_index + 1:]\r\n",
    "    before += chosen\r\n",
    "    cups = before + after\r\n",
    "    last_cup_index = cups.index(current)\r\n",
    "\r\n",
    "cups = [*map(str, cups)]\r\n",
    "one_ind = cups.index('1')\r\n",
    "print(\"\".join(cups[one_ind:] + cups[:one_ind])[1:])"
   ]
  },
  {
   "cell_type": "markdown",
   "metadata": {},
   "source": [
    "## Part 2"
   ]
  },
  {
   "cell_type": "code",
   "execution_count": 3,
   "metadata": {},
   "outputs": [],
   "source": [
    "class Cup:\r\n",
    "    def __init__(self, number, next_cup=None):\r\n",
    "        self.number = int(number)\r\n",
    "        self.next = next_cup"
   ]
  },
  {
   "cell_type": "code",
   "execution_count": 4,
   "metadata": {},
   "outputs": [
    {
     "name": "stdout",
     "output_type": "stream",
     "text": [
      "538935646702\n"
     ]
    }
   ],
   "source": [
    "cups = [*map(Cup,data[0])]\r\n",
    "min_label = min({cup.number for cup in cups})\r\n",
    "max_label = 10**6\r\n",
    "cups += list(map(Cup, range(max(cups, key=lambda x: x.number).number + 1, 10**6 + 1)))\r\n",
    "cups[-1].next = cups[0]\r\n",
    "for x, cup in enumerate(cups[:-1]):\r\n",
    "    cup.next = cups[x + 1]\r\n",
    "\r\n",
    "reverse = {cup.number: cup for cup in cups}\r\n",
    "\r\n",
    "current = cups[0]\r\n",
    "for x in range(10**7):\r\n",
    "    a = current.next\r\n",
    "    b = a.next\r\n",
    "    c = b.next\r\n",
    "    current.next = c.next\r\n",
    "    destination_number = current.number\r\n",
    "    while destination_number in (x.number for x in [current, a, b, c]):\r\n",
    "        destination_number -= 1\r\n",
    "        if destination_number < min_label:\r\n",
    "            destination_number = max_label\r\n",
    "    \r\n",
    "    destination_cup = reverse[destination_number]\r\n",
    "    destination_cup_next = destination_cup.next\r\n",
    "    destination_cup.next = a\r\n",
    "    c.next = destination_cup_next\r\n",
    "    current = current.next\r\n",
    "    \r\n",
    "print(reverse[1].next.number * reverse[1].next.next.number)\r\n"
   ]
  }
 ],
 "metadata": {
  "kernelspec": {
   "display_name": "Python 3",
   "language": "python",
   "name": "python3"
  },
  "language_info": {
   "codemirror_mode": {
    "name": "ipython",
    "version": 3
   },
   "file_extension": ".py",
   "mimetype": "text/x-python",
   "name": "python",
   "nbconvert_exporter": "python",
   "pygments_lexer": "ipython3",
   "version": "3.7.9"
  },
  "orig_nbformat": 2
 },
 "nbformat": 4,
 "nbformat_minor": 2
}