{
 "cells": [
  {
   "cell_type": "markdown",
   "metadata": {},
   "source": [
    "# Advent of code 2020: Day 3"
   ]
  },
  {
   "cell_type": "markdown",
   "metadata": {},
   "source": [
    "## Import"
   ]
  },
  {
   "cell_type": "code",
   "execution_count": 7,
   "metadata": {},
   "outputs": [],
   "source": [
    "import math as M\n",
    "import collections as C\n",
    "import bahnslib as B\n",
    "from itertools import combinations\n",
    "import requests\n",
    "\n",
    "day = 3\n",
    "\n",
    "if open(f\"../inputs/{str(day).zfill(2)}.txt\", \"r\").read() == \"\":\n",
    "    url = f\"https://adventofcode.com/2020/day/{day}/input\"\n",
    "    id = open(\"../downloader/session_id.txt\", \"r\").readline().strip()\n",
    "    cookies = {\n",
    "        \"session\": id\n",
    "    }\n",
    "    r = requests.post(url, cookies=cookies, allow_redirects=True)\n",
    "    open(f\"../inputs/{str(day).zfill(2)}.txt\", \"w\").write(r.text)\n",
    "\n",
    "file = open(f\"../inputs/{str(day).zfill(2)}.txt\", \"r\")\n",
    "data = [*map(str.rstrip, file.readlines())]\n",
    "file.close()"
   ]
  },
  {
   "cell_type": "markdown",
   "metadata": {},
   "source": [
    "Slope traversal for any right and down values"
   ]
  },
  {
   "cell_type": "code",
   "execution_count": 8,
   "metadata": {},
   "outputs": [],
   "source": [
    "def ski(right = 3, down = 1):\n",
    "    x, y = 0, 0\n",
    "    t = 0\n",
    "    for i in range(len(data) // down - 1):\n",
    "        x += right\n",
    "        x = x % len(data[i])\n",
    "        y += down\n",
    "        if data[y][x] == \"#\":\n",
    "            t += 1\n",
    "    return t"
   ]
  },
  {
   "cell_type": "markdown",
   "metadata": {},
   "source": [
    "## Part 1"
   ]
  },
  {
   "cell_type": "code",
   "execution_count": 9,
   "metadata": {},
   "outputs": [
    {
     "name": "stdout",
     "output_type": "stream",
     "text": [
      "252\n"
     ]
    }
   ],
   "source": [
    "print(ski())"
   ]
  },
  {
   "cell_type": "markdown",
   "metadata": {},
   "source": [
    "## Part 2"
   ]
  },
  {
   "cell_type": "code",
   "execution_count": 10,
   "metadata": {},
   "outputs": [
    {
     "name": "stdout",
     "output_type": "stream",
     "text": [
      "2608962048\n"
     ]
    }
   ],
   "source": [
    "print(ski(right=1, down=1) *  ski(right=3, down=1) * ski(right=5, down=1) * ski(right=7, down=1) * ski(right=1, down=2))"
   ]
  }
 ],
 "metadata": {
  "kernelspec": {
   "display_name": "Python 3",
   "name": "python3"
  },
  "language_info": {
   "codemirror_mode": {
    "name": "ipython",
    "version": 3
   },
   "file_extension": ".py",
   "mimetype": "text/x-python",
   "name": "python",
   "nbconvert_exporter": "python",
   "pygments_lexer": "ipython3",
   "version": "3.7.9-final"
  },
  "orig_nbformat": 2
 },
 "nbformat": 4,
 "nbformat_minor": 2
}