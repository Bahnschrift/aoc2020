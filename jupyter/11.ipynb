{
 "cells": [
  {
   "cell_type": "markdown",
   "metadata": {},
   "source": [
    "# Advent of code 2020: Day 11"
   ]
  },
  {
   "cell_type": "markdown",
   "metadata": {},
   "source": [
    "## Import Data"
   ]
  },
  {
   "cell_type": "code",
   "execution_count": 1,
   "metadata": {},
   "outputs": [],
   "source": [
    "import math as M\r\n",
    "import collections as C\r\n",
    "import bahnslib as B\r\n",
    "import itertools as I\r\n",
    "\r\n",
    "\r\n",
    "day = 11\r\n",
    "data = B.get_aoc_input(day, f\"../inputs/{day}.txt\", format=\"lines\")"
   ]
  },
  {
   "cell_type": "markdown",
   "metadata": {},
   "source": [
    "## Part 1"
   ]
  },
  {
   "cell_type": "code",
   "execution_count": 2,
   "metadata": {},
   "outputs": [
    {
     "name": "stdout",
     "output_type": "stream",
     "text": [
      "2354\n"
     ]
    }
   ],
   "source": [
    "dirs = [(0, 1), (1, 1), (1, 0), (1, -1), (0, -1), (-1, -1), (-1, 0), (-1, 1)]\r\n",
    "\r\n",
    "def step(layout):\r\n",
    "    height, length = len(layout), len(layout[0])\r\n",
    "    new = [[x for x in r] for r in layout]\r\n",
    "    for y, row in enumerate(layout):\r\n",
    "        for x, cell in enumerate(row):\r\n",
    "            c = 0\r\n",
    "            if cell == \".\":\r\n",
    "                continue\r\n",
    "            \r\n",
    "            for dx, dy in dirs:\r\n",
    "                if not((0 <= x + dx < length) and (0 <= y + dy < height)):\r\n",
    "                    continue\r\n",
    "                if layout[y + dy][x + dx] == \"#\":\r\n",
    "                    c += 1\r\n",
    "                    \r\n",
    "            if cell == \"#\" and c >= 4:\r\n",
    "                new[y][x] = \"L\"\r\n",
    "            elif cell == \"L\" and c == 0:\r\n",
    "                new[y][x] = \"#\"\r\n",
    "    return new\r\n",
    "\r\n",
    "last = data\r\n",
    "k = step(data)\r\n",
    "while last != k:\r\n",
    "    last = k\r\n",
    "    k = step(k)\r\n",
    "    \r\n",
    "    \r\n",
    "e = 0\r\n",
    "for r in k:\r\n",
    "    e += r.count(\"#\")\r\n",
    "print(e)"
   ]
  },
  {
   "cell_type": "markdown",
   "metadata": {},
   "source": [
    "## Part 2"
   ]
  },
  {
   "cell_type": "code",
   "execution_count": 3,
   "metadata": {},
   "outputs": [
    {
     "name": "stdout",
     "output_type": "stream",
     "text": [
      "2072\n"
     ]
    }
   ],
   "source": [
    "dirs = [(0, 1), (1, 1), (1, 0), (1, -1), (0, -1), (-1, -1), (-1, 0), (-1, 1)]\r\n",
    "\r\n",
    "def step(layout):\r\n",
    "    height, length = len(layout), len(layout[0])\r\n",
    "    new = [[x for x in r] for r in layout]\r\n",
    "    for y, row in enumerate(layout):\r\n",
    "        for x, cell in enumerate(row):\r\n",
    "            c = 0\r\n",
    "            if cell == \".\":\r\n",
    "                continue\r\n",
    "            \r\n",
    "            for dy, dx in dirs:\r\n",
    "                for i in range(1, 1000): \r\n",
    "                    ny = y + dy * i\r\n",
    "                    nx = x + dx * i                           \r\n",
    "                    if not((0 <= ny < height) and (0 <= nx < length)) or layout[ny][nx] == \"L\":\r\n",
    "                        break\r\n",
    "                    if layout[ny][nx] == \"#\":\r\n",
    "                        c += 1\r\n",
    "                        break\r\n",
    "        \r\n",
    "            if cell == \"#\" and c >= 5:\r\n",
    "                new[y][x] = \"L\"\r\n",
    "            elif cell == \"L\" and c == 0:\r\n",
    "                new[y][x] = \"#\"\r\n",
    "                \r\n",
    "    return new\r\n",
    "\r\n",
    "last = data\r\n",
    "k = step(data)\r\n",
    "while last != k:\r\n",
    "    last = k\r\n",
    "    k = step(k)\r\n",
    "    \r\n",
    "    \r\n",
    "e = 0\r\n",
    "for r in k:\r\n",
    "    e += r.count(\"#\")\r\n",
    "print(e)\r\n"
   ]
  }
 ],
 "metadata": {
  "kernelspec": {
   "display_name": "Python 3",
   "language": "python",
   "name": "python3"
  },
  "language_info": {
   "codemirror_mode": {
    "name": "ipython",
    "version": 3
   },
   "file_extension": ".py",
   "mimetype": "text/x-python",
   "name": "python",
   "nbconvert_exporter": "python",
   "pygments_lexer": "ipython3",
   "version": "3.7.9"
  },
  "orig_nbformat": 2
 },
 "nbformat": 4,
 "nbformat_minor": 2
}